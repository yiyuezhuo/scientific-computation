{
 "cells": [
  {
   "cell_type": "markdown",
   "metadata": {},
   "source": [
    "# 有效率的QR分解实现"
   ]
  },
  {
   "cell_type": "code",
   "execution_count": 1,
   "metadata": {
    "collapsed": true
   },
   "outputs": [],
   "source": [
    "import numpy as np\n",
    "import scipy\n",
    "from scipy import linalg\n",
    "import pandas as pd\n",
    "import matplotlib.pyplot as plt\n",
    "from IPython.display import display,Latex,Math\n",
    "%matplotlib inline\n",
    "\n",
    "from IPython.core.interactiveshell import InteractiveShell\n",
    "sh = InteractiveShell.instance()\n",
    "\n",
    "def number_to_str(n,cut=5):\n",
    "    ns=str(n)\n",
    "    format_='{0:.'+str(cut)+'f}'\n",
    "    if 'e' in ns or ('.' in ns and len(ns)>cut+1):\n",
    "        return format_.format(n)\n",
    "    else:\n",
    "        return str(n)\n",
    "\n",
    "def matrix_to_latex(mat,style='bmatrix'):\n",
    "    if type(mat)==np.matrixlib.defmatrix.matrix:\n",
    "        mat=mat.A\n",
    "    head=r'\\begin{'+style+'}'\n",
    "    tail=r'\\end{'+style+'}'\n",
    "    if len(mat.shape)==1:\n",
    "        body=r'\\\\'.join([str(el) for el in mat])\n",
    "        return head+body+tail\n",
    "    elif len(mat.shape)==2:\n",
    "        lines=[]\n",
    "        for row in mat:\n",
    "            lines.append('&'.join([number_to_str(el)  for el in row])+r'\\\\')\n",
    "        s=head+' '.join(lines)+tail\n",
    "        return s\n",
    "    return None\n",
    "\n",
    "sh.display_formatter.formatters['text/latex'].type_printers[np.ndarray]=matrix_to_latex\n",
    "\n",
    "def show_decomposition(*args):\n",
    "    latex=''\n",
    "    for arg in args:\n",
    "        if type(arg)==str:\n",
    "            latex+=arg\n",
    "        else:\n",
    "            latex+=matrix_to_latex(arg)\n",
    "    latex='$'+latex+'$'\n",
    "    display(Math(latex))\n"
   ]
  },
  {
   "cell_type": "code",
   "execution_count": 2,
   "metadata": {
    "collapsed": true
   },
   "outputs": [],
   "source": [
    "def get_Q1(x):\n",
    "    size=x.shape[0]\n",
    "    norm_x=np.sqrt(np.dot(x,x))\n",
    "    e1=np.zeros(size)\n",
    "    e1[0]=1\n",
    "    u=x-norm_x*e1\n",
    "    norm_u=np.sqrt(np.dot(u,u))\n",
    "    v=u/norm_u\n",
    "    Q=np.identity(size)-2*np.outer(v,np.transpose(v))\n",
    "    return Q\n",
    "\n",
    "from functools import reduce\n",
    "\n",
    "def qr(A):\n",
    "    size=A.shape[1]\n",
    "    QList=[]\n",
    "    for i in range(size):\n",
    "        x=A[i:,i]\n",
    "        Q=get_Q1(x)\n",
    "        Qn=np.identity(A.shape[0])\n",
    "        #print(Qn.shape,Q.shape)\n",
    "        Qn[i:,i:]=Q\n",
    "        A=np.dot(Qn,A)\n",
    "        QList.append(Qn)\n",
    "    Q=reduce(lambda x,y:x.dot(y),QList)\n",
    "    R=A\n",
    "    return Q,R\n",
    "    \n"
   ]
  },
  {
   "cell_type": "code",
   "execution_count": 3,
   "metadata": {
    "collapsed": false
   },
   "outputs": [
    {
     "data": {
      "text/latex": [
       "$$\\begin{bmatrix}12.0&-51.0&4.0\\\\ 6.0&167.0&-68.0\\\\ -4.0&24.0&-41.0\\\\\\end{bmatrix}=\\begin{bmatrix}0.85714&-0.39429&-0.33143\\\\ 0.42857&0.90286&0.03429\\\\ -0.28571&0.17143&-0.94286\\\\\\end{bmatrix}\\begin{bmatrix}14.0&21.0&-14.0\\\\ 0.00000&175.0&-70.0\\\\ 0.00000&0.00000&35.0\\\\\\end{bmatrix}$$"
      ],
      "text/plain": [
       "<IPython.core.display.Math object>"
      ]
     },
     "metadata": {},
     "output_type": "display_data"
    }
   ],
   "source": [
    "A=np.array([12,-51,4,6,167,-68,-4,24,-41]).reshape(3,3)\n",
    "Q,R=qr(A)\n",
    "\n",
    "show_decomposition(Q.dot(R),'=',Q,R)"
   ]
  },
  {
   "cell_type": "markdown",
   "metadata": {},
   "source": [
    "```\n",
    "for j = 1 to p\n",
    "{\n",
    "\tdefine r[j,j] = sqrt( sum_i x[i,j]^2 )  \n",
    "\n",
    "    # r[j,j] is the norm of the jth column of X\n",
    "\n",
    "\tfor i = 1 to n\n",
    "\t{\n",
    "\t\tx[i,j] = x[i,j] / r[j,j]\n",
    "\t}\n",
    "\n",
    "\tfor k = j+1 to p\n",
    "\t{\n",
    "\t\tr[j,k] = sum_{i=1}^n x[i,j]x[i,k]\n",
    "\t\tfor i = 1 to n\n",
    "\t\t{\n",
    "\t\t\tx[i,k] = x[i,k] - x[i,j] r[j,k]\n",
    "\t\t}\n",
    "\t}\n",
    "}\n",
    "```"
   ]
  },
  {
   "cell_type": "code",
   "execution_count": 54,
   "metadata": {
    "collapsed": true
   },
   "outputs": [],
   "source": [
    "def qr2(x):\n",
    "    n,p=x.shape\n",
    "    r=np.zeros((p,p))\n",
    "    for j in range(p):\n",
    "        r[j][j]=np.sqrt(sum([x[i][j]**2 for i in range(n)]))\n",
    "        for i in range(n):\n",
    "            x[i][j]=x[i][j]/r[j][j]\n",
    "        for k in range(j+1,p):\n",
    "            r[j][k]=sum([(x[i][j]*x[i][k]) for i in range(n)])\n",
    "            # it would error\n",
    "            for i in range(n):\n",
    "                x[i][k]=x[i][k]-x[i][j]*r[j][k]\n",
    "    return x,r\n",
    "\n"
   ]
  },
  {
   "cell_type": "code",
   "execution_count": 48,
   "metadata": {
    "collapsed": false,
    "scrolled": false
   },
   "outputs": [
    {
     "data": {
      "text/latex": [
       "$$\\begin{bmatrix}12.0&-51.0&4.0\\\\ 6.0&167.0&-68.0\\\\ -4.0&24.0&-41.0\\\\\\end{bmatrix}=\\begin{bmatrix}0.85714&-0.39429&-0.33143\\\\ 0.42857&0.90286&0.03429\\\\ -0.28571&0.17143&-0.94286\\\\\\end{bmatrix}\\begin{bmatrix}14.0&21.0&-14.0\\\\ 0.00000&175.0&-70.0\\\\ 0.00000&0.00000&35.0\\\\\\end{bmatrix}$$"
      ],
      "text/plain": [
       "<IPython.core.display.Math object>"
      ]
     },
     "metadata": {},
     "output_type": "display_data"
    }
   ],
   "source": [
    "A=np.array([12,-51,4,6,167,-68,-4,24,-41]).reshape(3,3)\n",
    "Q,R=qr(A)\n",
    "\n",
    "show_decomposition(Q.dot(R),'=',Q,R)"
   ]
  },
  {
   "cell_type": "code",
   "execution_count": 55,
   "metadata": {
    "collapsed": false
   },
   "outputs": [
    {
     "data": {
      "text/latex": [
       "$$\\begin{bmatrix}12.0&-51.0&4.0\\\\ 6.0&167.0&-68.0\\\\ -4.0&24.0&-41.0\\\\\\end{bmatrix}=\\begin{bmatrix}0.85714&-0.39429&-0.33143\\\\ 0.42857&0.90286&0.03429\\\\ -0.28571&0.17143&-0.94286\\\\\\end{bmatrix}\\begin{bmatrix}14.0&21.0&-14.0\\\\ 0.0&175.0&-70.0\\\\ 0.0&0.0&35.0\\\\\\end{bmatrix}$$"
      ],
      "text/plain": [
       "<IPython.core.display.Math object>"
      ]
     },
     "metadata": {},
     "output_type": "display_data"
    }
   ],
   "source": [
    "A=np.array([float(i) for i in[12,-51,4,6,167,-68,-4,24,-41]]).reshape(3,3)\n",
    "Q,R=qr2(A)\n",
    "\n",
    "show_decomposition(Q.dot(R),'=',Q,R)"
   ]
  },
  {
   "cell_type": "code",
   "execution_count": 26,
   "metadata": {
    "collapsed": false
   },
   "outputs": [
    {
     "name": "stdout",
     "output_type": "stream",
     "text": [
      "Wall time: 355 ms\n"
     ]
    },
    {
     "data": {
      "text/plain": [
       "(array([[  4.72613896e-02,   2.30784462e-02,   1.33113767e-02, ...,\n",
       "           2.63372029e-02,   5.18083156e-02,   3.56110975e-02],\n",
       "        [  3.08956543e-02,  -1.09834310e-04,   5.12442621e-02, ...,\n",
       "           3.48277836e-02,  -3.95627654e-02,  -1.78523418e-02],\n",
       "        [  4.79711800e-02,  -2.03296298e-02,  -4.06284852e-02, ...,\n",
       "          -3.23403510e-02,   3.10065848e-02,   4.41111254e-02],\n",
       "        ..., \n",
       "        [  1.90507089e-02,   2.95406843e-02,  -3.48901210e-02, ...,\n",
       "           9.93068054e-01,   2.35462020e-03,  -2.10790806e-03],\n",
       "        [  5.24776027e-02,  -3.67845266e-02,   3.46058404e-02, ...,\n",
       "           1.80720208e-03,   9.92288840e-01,  -3.13011679e-03],\n",
       "        [  2.79505375e-02,  -1.69012193e-02,   4.56932000e-02, ...,\n",
       "          -2.16714687e-03,  -2.56918305e-03,   9.94056395e-01]]),\n",
       " array([[  1.83658283e+01,   1.36198702e+01,   1.37827514e+01,\n",
       "           1.34715491e+01,   1.39141192e+01],\n",
       "        [ -4.80335526e-17,   1.22818897e+01,   5.64814134e+00,\n",
       "           5.16066985e+00,   5.34103140e+00],\n",
       "        [ -1.88070448e-18,   3.67849314e-16,   1.08277863e+01,\n",
       "           3.05504809e+00,   3.66488150e+00],\n",
       "        ..., \n",
       "        [  8.62017881e-17,   2.17377176e-16,  -5.37018599e-17,\n",
       "          -2.44718503e-16,   0.00000000e+00],\n",
       "        [  4.35797301e-16,  -2.88768021e-16,   1.17680184e-16,\n",
       "          -8.93860277e-17,   0.00000000e+00],\n",
       "        [  3.38675578e-16,  -1.28283844e-16,   1.67414085e-16,\n",
       "          -1.85316579e-16,  -1.11022302e-16]]))"
      ]
     },
     "execution_count": 26,
     "metadata": {},
     "output_type": "execute_result"
    }
   ],
   "source": [
    "A=np.random.random((1000,5))\n",
    "\n",
    "%time qr(A)"
   ]
  },
  {
   "cell_type": "code",
   "execution_count": 25,
   "metadata": {
    "collapsed": false
   },
   "outputs": [
    {
     "name": "stdout",
     "output_type": "stream",
     "text": [
      "Wall time: 95 ms\n"
     ]
    },
    {
     "data": {
      "text/plain": [
       "(array([[  1.11950380e-14,  -6.63358257e-15,   1.43461631e-15,\n",
       "           5.50046120e-14,  -4.15154022e-14],\n",
       "        [  3.69357323e-14,  -7.38992201e-15,   5.42621503e-15,\n",
       "           4.85340934e-14,  -3.88647448e-14],\n",
       "        [  6.63288868e-14,  -1.24292937e-15,   3.24046345e-15,\n",
       "           3.62071484e-14,  -3.23872873e-14],\n",
       "        ..., \n",
       "        [  5.28257993e-14,  -2.78249646e-15,   4.48946436e-15,\n",
       "           5.72666914e-14,  -5.69128078e-14],\n",
       "        [  3.46181417e-14,  -9.52363188e-16,   4.16767315e-16,\n",
       "           3.81535081e-14,  -6.43166076e-14],\n",
       "        [  7.86246068e-14,  -6.58847976e-15,   4.23966418e-15,\n",
       "           4.46934156e-14,  -6.64676647e-14]]),\n",
       " array([[ 1.,  0.,  0.,  0.,  0.],\n",
       "        [ 0.,  1.,  0.,  0.,  0.],\n",
       "        [ 0.,  0.,  1.,  0.,  0.],\n",
       "        [ 0.,  0.,  0.,  1.,  0.],\n",
       "        [ 0.,  0.,  0.,  0.,  1.]]))"
      ]
     },
     "execution_count": 25,
     "metadata": {},
     "output_type": "execute_result"
    }
   ],
   "source": [
    "A=np.random.random((1000,5))\n",
    "\n",
    "%time qr2(A)"
   ]
  },
  {
   "cell_type": "code",
   "execution_count": 27,
   "metadata": {
    "collapsed": true
   },
   "outputs": [],
   "source": [
    "import statsmodels.api as sm"
   ]
  },
  {
   "cell_type": "code",
   "execution_count": 30,
   "metadata": {
    "collapsed": true
   },
   "outputs": [],
   "source": [
    "def load1(data):\n",
    "    df=pd.DataFrame(data.exog)\n",
    "    df.columns=data.exog_name\n",
    "    return df\n",
    "    \n",
    "    \n",
    "\n",
    "data=sm.datasets.anes96.load()\n",
    "exog=load1(data)\n",
    "endog=pd.Series(data.endog)\n"
   ]
  },
  {
   "cell_type": "code",
   "execution_count": 34,
   "metadata": {
    "collapsed": false
   },
   "outputs": [],
   "source": [
    "mat=exog.as_matrix()"
   ]
  },
  {
   "cell_type": "code",
   "execution_count": 37,
   "metadata": {
    "collapsed": false
   },
   "outputs": [
    {
     "name": "stdout",
     "output_type": "stream",
     "text": [
      "Wall time: 308 ms\n"
     ]
    },
    {
     "data": {
      "text/plain": [
       "(array([[-0.01858599,  0.07231401, -0.04089145, ..., -0.01809627,\n",
       "         -0.01853284,  0.02795317],\n",
       "        [ 0.04235713, -0.00239098, -0.02293204, ...,  0.06358211,\n",
       "          0.06250948,  0.0198534 ],\n",
       "        [ 0.02774442, -0.00126651,  0.00163617, ..., -0.01583678,\n",
       "         -0.01345472,  0.02724068],\n",
       "        ..., \n",
       "        [-0.01858599,  0.06374479, -0.01525903, ...,  0.99461667,\n",
       "         -0.00540734, -0.00140664],\n",
       "        [-0.01858599,  0.06374479, -0.01053388, ..., -0.00547984,\n",
       "          0.99410203, -0.0020664 ],\n",
       "        [ 0.0233752 ,  0.01877037,  0.03179344, ..., -0.00147374,\n",
       "         -0.00198473,  0.99646272]]),\n",
       " array([[  1.23888234e+02,   7.74136492e+01,   8.77000427e+02,\n",
       "           8.54056218e+01,   2.95338147e+02],\n",
       "        [ -1.86661379e-14,   1.16696731e+02,   1.08225137e+03,\n",
       "           1.01120564e+02,   3.77875165e+02],\n",
       "        [  2.25008263e-15,  -3.43380576e-15,   6.34900954e+02,\n",
       "           2.28135816e+01,   7.88113538e+01],\n",
       "        ..., \n",
       "        [  1.18540185e-15,  -1.68683807e-15,  -1.59776797e-15,\n",
       "          -6.79952073e-16,  -1.33226763e-15],\n",
       "        [  1.62901359e-15,  -7.75520764e-16,  -1.85002028e-15,\n",
       "          -6.67410016e-16,  -1.11022302e-16],\n",
       "        [ -1.75446791e-15,   4.90715726e-16,  -2.77939128e-17,\n",
       "          -6.70140710e-16,  -2.22044605e-16]]))"
      ]
     },
     "execution_count": 37,
     "metadata": {},
     "output_type": "execute_result"
    }
   ],
   "source": [
    "%time qr(mat)"
   ]
  },
  {
   "cell_type": "code",
   "execution_count": 38,
   "metadata": {
    "collapsed": false
   },
   "outputs": [
    {
     "name": "stdout",
     "output_type": "stream",
     "text": [
      "Wall time: 105 ms\n"
     ]
    },
    {
     "data": {
      "text/plain": [
       "(array([[  8.57092175e-14,   3.66720543e-14,   3.45036499e-14,\n",
       "          -1.14235010e-13,  -1.60854403e-14],\n",
       "        [ -1.95329863e-13,   1.57165947e-14,   1.91686944e-14,\n",
       "          -1.52312191e-13,  -1.60854403e-14],\n",
       "        [ -1.27942795e-13,   1.04777298e-14,   2.30024333e-14,\n",
       "          -2.28470021e-13,  -1.60854403e-14],\n",
       "        ..., \n",
       "        [  8.57092175e-14,   3.14331894e-14,   4.12135603e-14,\n",
       "          -2.28470021e-13,  -3.86052301e-13],\n",
       "        [  8.57092175e-14,   3.14331894e-14,   4.40897319e-14,\n",
       "          -2.66550670e-13,  -3.86052301e-13],\n",
       "        [ -1.07792247e-13,   2.09554596e-14,   5.84671200e-14,\n",
       "          -2.66550670e-13,  -3.86052301e-13]]),\n",
       " array([[ 1.,  0.,  0.,  0.,  0.],\n",
       "        [ 0.,  1.,  0.,  0.,  0.],\n",
       "        [ 0.,  0.,  1.,  0.,  0.],\n",
       "        [ 0.,  0.,  0.,  1.,  0.],\n",
       "        [ 0.,  0.,  0.,  0.,  1.]]))"
      ]
     },
     "execution_count": 38,
     "metadata": {},
     "output_type": "execute_result"
    }
   ],
   "source": [
    "%time qr2(mat)"
   ]
  },
  {
   "cell_type": "code",
   "execution_count": 39,
   "metadata": {
    "collapsed": false
   },
   "outputs": [
    {
     "data": {
      "text/plain": [
       "'[[  8.57092175e-14   3.66720543e-14   3.45036499e-14  -1.14235010e-13\\n   -1.60854403e-14]\\n [ -1.95329863e-13   1.57165947e-14   1.91686944e-14  -1.52312191e-13\\n   -1.60854403e-14]\\n [ -1.27942795e-13   1.04777298e-14   2.30024333e-14  -2.28470021e-13\\n   -1.60854403e-14]\\n ..., \\n [  8.57092175e-14   3.14331894e-14   4.12135603e-14  -2.28470021e-13\\n   -3.86052301e-13]\\n [  8.57092175e-14   3.14331894e-14   4.40897319e-14  -2.66550670e-13\\n   -3.86052301e-13]\\n [ -1.07792247e-13   2.09554596e-14   5.84671200e-14  -2.66550670e-13\\n   -3.86052301e-13]]'"
      ]
     },
     "execution_count": 39,
     "metadata": {},
     "output_type": "execute_result"
    }
   ],
   "source": [
    "str(mat)"
   ]
  },
  {
   "cell_type": "code",
   "execution_count": null,
   "metadata": {
    "collapsed": true
   },
   "outputs": [],
   "source": []
  }
 ],
 "metadata": {
  "kernelspec": {
   "display_name": "Python 3",
   "language": "python",
   "name": "python3"
  },
  "language_info": {
   "codemirror_mode": {
    "name": "ipython",
    "version": 3
   },
   "file_extension": ".py",
   "mimetype": "text/x-python",
   "name": "python",
   "nbconvert_exporter": "python",
   "pygments_lexer": "ipython3",
   "version": "3.5.1"
  }
 },
 "nbformat": 4,
 "nbformat_minor": 0
}
