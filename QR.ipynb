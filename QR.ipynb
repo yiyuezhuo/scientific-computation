{
 "cells": [
  {
   "cell_type": "markdown",
   "metadata": {},
   "source": [
    "# The QR Decomposition and Regression\n",
    "\n",
    "In multiple regression, a single quantitative response variable is modeled as a linear combination of quantitative explanatory variables and error. There are n observations and p explanatory variables (including an intercept).\n",
    "\n",
    "$$\n",
    "y = b_0 + b_1 x_1 + ... + b_{p-1} x_{p-1} + error\n",
    "$$\n",
    "\n",
    "## The Matrix Formulation of Regression\n",
    "\n",
    "The matrix expression of this, where each row corresponds to all measurements on a single individual is:\n",
    "$$\n",
    "y = Xb + error\n",
    "$$\n",
    "Letting $X^T$ represent the transpose of the matrix X, the normal equations are formed in this way.\n",
    "$$\n",
    "X^T y = X^T X b\n",
    "$$\n",
    "Notice that there are now exactly $p$ linear equations with $p$ unknowns. If the matrix $X$ is full rank ($p$ if $p < n$), then $X^T X$ will be invertible and the solution to the normal equations is\n",
    "$$\n",
    "(X^T X)^{-1} X^T y = b\n",
    "$$\n",
    "where b is the estimate of the parameters that minimizes the residual sum of squares. (A residual is the difference between the actual value of y and the value of y that is predicted by the model.\n",
    "\n",
    "On the surface, it appears that this requires the explicit inversion of a matrix, which requires substantial computation. A better algorithm for regression is found by using the QR decomposition.\n",
    "\n",
    "## The QR Decomposition\n",
    "\n",
    "Here is the mathematical fact. If $X$ is an n by p matrix of full rank (say $n > p$ and the $rank = p$), then $X = QR$ where $Q$ is an n by p orthonormal matrix and $R$ is a p by p upper triangular matrix. Since $Q$ is orthonormal, $Q^T Q = I$, the identity matrix.\n",
    "Beginning with the normal equations, see how the QR decomposition simplifies them.\n",
    "$$\n",
    "X^T X b = X^T y \\\\\n",
    "(QR)^T (QR) b = (QR)^T y \\\\\n",
    "R^T (Q^T Q) R b = R^T Q^T y \\\\\n",
    "R^T R b = R^T Q^T y \\\\\n",
    "(R^T)^{-1} R^T R b = (R^T)^{-1} R^T Q^T y \\\\\n",
    "R b = Q^T y \\\\\n",
    "\\text{If we let } z = Q^T y, \\\\\n",
    "R b = z \\\\\n",
    "$$\n",
    "This is simply an upper triangular system of equations which may be quickly solved by back substitution.\n",
    "\n",
    "This algorithm will be efficient if the QR decomposition is fast. This algorithm will create the matrix $Q$ by overwriting X and create a new matrix R.\n",
    "```\n",
    "for j = 1 to p\n",
    "{\n",
    "\tdefine r[j,j] = sqrt( sum_i x[i,j]^2 )  \n",
    "\n",
    "# r[j,j] is the norm of the jth column of X\n",
    "\n",
    "\tfor i = 1 to n\n",
    "\t{\n",
    "\t\tx[i,j] = x[i,j] / r[j,j]\n",
    "\t}\n",
    "\n",
    "\tfor k = j+1 to p\n",
    "\t{\n",
    "\t\tr[j,k] = sum_{i=1}^n x[i,j]x[i,k]\n",
    "\t\tfor i = 1 to n\n",
    "\t\t{\n",
    "\t\t\tx[i,k] = x[i,k] - x[i,j] r[j,k]\n",
    "\t\t}\n",
    "\t}\n",
    "}\n",
    "```\n",
    "Last modified: April 25, 1997\n",
    "\n",
    "Bret Larget, larget@mathcs.duq.edu"
   ]
  },
  {
   "cell_type": "code",
   "execution_count": 1,
   "metadata": {
    "collapsed": false
   },
   "outputs": [
    {
     "data": {
      "text/latex": [
       "\\begin{bmatrix}1&2\\\\ 3&4\\\\\\end{bmatrix}"
      ],
      "text/plain": [
       "array([[1, 2],\n",
       "       [3, 4]])"
      ]
     },
     "execution_count": 1,
     "metadata": {},
     "output_type": "execute_result"
    }
   ],
   "source": [
    "import numpy as np\n",
    "import scipy\n",
    "from scipy import linalg\n",
    "import pandas as pd\n",
    "import matplotlib.pyplot as plt\n",
    "from IPython.display import display,Latex,Math\n",
    "%matplotlib inline\n",
    "\n",
    "from IPython.core.interactiveshell import InteractiveShell\n",
    "sh = InteractiveShell.instance()\n",
    "\n",
    "def number_to_str(n,cut=5):\n",
    "    ns=str(n)\n",
    "    format_='{0:.'+str(cut)+'f}'\n",
    "    if 'e' in ns or ('.' in ns and len(ns)>cut+1):\n",
    "        return format_.format(n)\n",
    "    else:\n",
    "        return str(n)\n",
    "\n",
    "def matrix_to_latex(mat,style='bmatrix'):\n",
    "    if type(mat)==np.matrixlib.defmatrix.matrix:\n",
    "        mat=mat.A\n",
    "    head=r'\\begin{'+style+'}'\n",
    "    tail=r'\\end{'+style+'}'\n",
    "    if len(mat.shape)==1:\n",
    "        body=r'\\\\'.join([str(el) for el in mat])\n",
    "        return head+body+tail\n",
    "    elif len(mat.shape)==2:\n",
    "        lines=[]\n",
    "        for row in mat:\n",
    "            lines.append('&'.join([number_to_str(el)  for el in row])+r'\\\\')\n",
    "        s=head+' '.join(lines)+tail\n",
    "        return s\n",
    "    return None\n",
    "\n",
    "sh.display_formatter.formatters['text/latex'].type_printers[np.ndarray]=matrix_to_latex\n",
    "\n",
    "np.array([[1,2],[3,4]])"
   ]
  },
  {
   "cell_type": "code",
   "execution_count": 3,
   "metadata": {
    "collapsed": false
   },
   "outputs": [
    {
     "data": {
      "text/latex": [
       "\\begin{bmatrix}0&1&2\\\\ 3&4&5\\\\ 6&7&8\\\\\\end{bmatrix}"
      ],
      "text/plain": [
       "array([[0, 1, 2],\n",
       "       [3, 4, 5],\n",
       "       [6, 7, 8]])"
      ]
     },
     "execution_count": 3,
     "metadata": {},
     "output_type": "execute_result"
    }
   ],
   "source": [
    "A=np.array(np.arange(9).reshape(3,3))\n",
    "A"
   ]
  },
  {
   "cell_type": "code",
   "execution_count": 8,
   "metadata": {
    "collapsed": false
   },
   "outputs": [
    {
     "data": {
      "text/latex": [
       "$$\\begin{bmatrix}0&1&2\\\\ 3&4&5\\\\ 6&7&8\\\\\\end{bmatrix}=\\begin{bmatrix}0.0&0.91287&0.40825\\\\ -0.44721&0.36515&-0.81650\\\\ -0.89443&-0.18257&0.40825\\\\\\end{bmatrix}\\begin{bmatrix}-6.70820&-8.04984&-9.39149\\\\ 0.0&1.09545&2.19089\\\\ 0.0&0.0&-0.00000\\\\\\end{bmatrix}$$"
      ],
      "text/plain": [
       "<IPython.core.display.Math object>"
      ]
     },
     "metadata": {},
     "output_type": "display_data"
    }
   ],
   "source": [
    "def show_decomposition(*args):\n",
    "    latex=''\n",
    "    for arg in args:\n",
    "        if type(arg)==str:\n",
    "            latex+=arg\n",
    "        else:\n",
    "            latex+=matrix_to_latex(arg)\n",
    "    latex='$'+latex+'$'\n",
    "    display(Math(latex))\n",
    "\n",
    "Q,R=np.linalg.qr(A)\n",
    "show_decomposition(A,'=',Q,R)"
   ]
  },
  {
   "cell_type": "code",
   "execution_count": 11,
   "metadata": {
    "collapsed": false
   },
   "outputs": [
    {
     "data": {
      "text/latex": [
       "\\begin{bmatrix}0&1&2&3\\\\ 4&5&6&7\\\\ 8&9&10&11\\\\ 12&13&14&15\\\\ 16&17&18&19\\\\ 20&21&22&23\\\\ 24&25&26&27\\\\ 28&29&30&31\\\\ 32&33&34&35\\\\ 36&37&38&39\\\\\\end{bmatrix}"
      ],
      "text/plain": [
       "array([[ 0,  1,  2,  3],\n",
       "       [ 4,  5,  6,  7],\n",
       "       [ 8,  9, 10, 11],\n",
       "       [12, 13, 14, 15],\n",
       "       [16, 17, 18, 19],\n",
       "       [20, 21, 22, 23],\n",
       "       [24, 25, 26, 27],\n",
       "       [28, 29, 30, 31],\n",
       "       [32, 33, 34, 35],\n",
       "       [36, 37, 38, 39]])"
      ]
     },
     "execution_count": 11,
     "metadata": {},
     "output_type": "execute_result"
    }
   ],
   "source": [
    "A=np.array(np.arange(40).reshape(10,4))\n",
    "A"
   ]
  },
  {
   "cell_type": "code",
   "execution_count": 12,
   "metadata": {
    "collapsed": false
   },
   "outputs": [
    {
     "data": {
      "text/latex": [
       "$$\\begin{bmatrix}0&1&2&3\\\\ 4&5&6&7\\\\ 8&9&10&11\\\\ 12&13&14&15\\\\ 16&17&18&19\\\\ 20&21&22&23\\\\ 24&25&26&27\\\\ 28&29&30&31\\\\ 32&33&34&35\\\\ 36&37&38&39\\\\\\end{bmatrix}=\\begin{bmatrix}0.0&-0.58775&0.79103&0.16881\\\\ -0.05923&-0.49495&-0.36986&0.07108\\\\ -0.11847&-0.40215&-0.28240&-0.08102\\\\ -0.17770&-0.30934&-0.24101&-0.01504\\\\ -0.23694&-0.21654&-0.11063&-0.22705\\\\ -0.29617&-0.12374&-0.14313&0.23696\\\\ -0.35541&-0.03093&-0.02000&-0.03287\\\\ -0.41464&0.06187&0.10855&-0.32047\\\\ -0.47388&0.15467&0.23110&-0.50363\\\\ -0.53311&0.24748&0.03636&0.70323\\\\\\end{bmatrix}\\begin{bmatrix}-67.52777&-70.19334&-72.85891&-75.52448\\\\ 0.0&-1.70139&-3.40279&-5.10418\\\\ 0.0&0.0&0.00000&0.00000\\\\ 0.0&0.0&0.0&-0.00000\\\\\\end{bmatrix}$$"
      ],
      "text/plain": [
       "<IPython.core.display.Math object>"
      ]
     },
     "metadata": {},
     "output_type": "display_data"
    }
   ],
   "source": [
    "Q,R=np.linalg.qr(A)\n",
    "show_decomposition(A,'=',Q,R)"
   ]
  },
  {
   "cell_type": "code",
   "execution_count": 16,
   "metadata": {
    "collapsed": false
   },
   "outputs": [
    {
     "data": {
      "text/latex": [
       "\\begin{bmatrix}-0.0&-0.0&-0.0&-0.0\\\\ 4.0&4.15789&4.31579&4.47368\\\\ 8.0&8.31579&8.63158&8.94737\\\\ 12.0&12.47368&12.94737&13.42105\\\\ 16.0&16.63158&17.26316&17.89474\\\\ 20.0&20.78947&21.57895&22.36842\\\\ 24.0&24.94737&25.89474&26.84211\\\\ 28.0&29.10526&30.21053&31.31579\\\\ 32.0&33.26316&34.52632&35.78947\\\\ 36.0&37.42105&38.84211&40.26316\\\\\\end{bmatrix}"
      ],
      "text/plain": [
       "array([[ -0.        ,  -0.        ,  -0.        ,  -0.        ],\n",
       "       [  4.        ,   4.15789474,   4.31578947,   4.47368421],\n",
       "       [  8.        ,   8.31578947,   8.63157895,   8.94736842],\n",
       "       [ 12.        ,  12.47368421,  12.94736842,  13.42105263],\n",
       "       [ 16.        ,  16.63157895,  17.26315789,  17.89473684],\n",
       "       [ 20.        ,  20.78947368,  21.57894737,  22.36842105],\n",
       "       [ 24.        ,  24.94736842,  25.89473684,  26.84210526],\n",
       "       [ 28.        ,  29.10526316,  30.21052632,  31.31578947],\n",
       "       [ 32.        ,  33.26315789,  34.52631579,  35.78947368],\n",
       "       [ 36.        ,  37.42105263,  38.84210526,  40.26315789]])"
      ]
     },
     "execution_count": 16,
     "metadata": {},
     "output_type": "execute_result"
    }
   ],
   "source": [
    "Q[:,:-3].dot(R[:-3,:])"
   ]
  },
  {
   "cell_type": "code",
   "execution_count": null,
   "metadata": {
    "collapsed": true
   },
   "outputs": [],
   "source": []
  }
 ],
 "metadata": {
  "kernelspec": {
   "display_name": "Python 3",
   "language": "python",
   "name": "python3"
  },
  "language_info": {
   "codemirror_mode": {
    "name": "ipython",
    "version": 3
   },
   "file_extension": ".py",
   "mimetype": "text/x-python",
   "name": "python",
   "nbconvert_exporter": "python",
   "pygments_lexer": "ipython3",
   "version": "3.5.1"
  }
 },
 "nbformat": 4,
 "nbformat_minor": 0
}
