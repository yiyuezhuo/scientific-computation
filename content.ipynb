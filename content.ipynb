{
 "cells": [
  {
   "cell_type": "markdown",
   "metadata": {},
   "source": [
    "# scipy.linalg notebook\n",
    "\n",
    "### setup"
   ]
  },
  {
   "cell_type": "code",
   "execution_count": 1,
   "metadata": {
    "collapsed": true
   },
   "outputs": [],
   "source": [
    "import numpy as np\n",
    "import scipy\n",
    "from scipy import linalg\n",
    "import pandas as pd\n",
    "import matplotlib.pyplot as plt\n",
    "from IPython.display import display,Latex,Math\n",
    "%matplotlib inline\n",
    "\n",
    "from IPython.core.interactiveshell import InteractiveShell\n",
    "sh = InteractiveShell.instance()\n"
   ]
  },
  {
   "cell_type": "markdown",
   "metadata": {},
   "source": [
    "I change the output for np.array and np.matrix for nice print in LaTex."
   ]
  },
  {
   "cell_type": "code",
   "execution_count": 2,
   "metadata": {
    "collapsed": false
   },
   "outputs": [],
   "source": [
    "def number_to_str(n,cut=5):\n",
    "    ns=str(n)\n",
    "    format_='{0:.'+str(cut)+'f}'\n",
    "    if 'e' in ns or ('.' in ns and len(ns)>cut+1):\n",
    "        return format_.format(n)\n",
    "    else:\n",
    "        return str(n)\n",
    "\n",
    "def matrix_to_latex(mat,style='bmatrix'):\n",
    "    if type(mat)==np.matrixlib.defmatrix.matrix:\n",
    "        mat=mat.A\n",
    "    head=r'\\begin{'+style+'}'\n",
    "    tail=r'\\end{'+style+'}'\n",
    "    if len(mat.shape)==1:\n",
    "        body=r'\\\\'.join([str(el) for el in mat])\n",
    "        return head+body+tail\n",
    "    elif len(mat.shape)==2:\n",
    "        lines=[]\n",
    "        for row in mat:\n",
    "            lines.append('&'.join([number_to_str(el)  for el in row])+r'\\\\')\n",
    "        s=head+' '.join(lines)+tail\n",
    "        return s\n",
    "    return None\n"
   ]
  },
  {
   "cell_type": "code",
   "execution_count": 3,
   "metadata": {
    "collapsed": false
   },
   "outputs": [],
   "source": [
    "sh.display_formatter.formatters['text/latex'].type_printers[np.ndarray]=matrix_to_latex"
   ]
  },
  {
   "cell_type": "code",
   "execution_count": 4,
   "metadata": {
    "collapsed": false
   },
   "outputs": [
    {
     "data": {
      "text/latex": [
       "\\begin{bmatrix}1&2\\\\ 3&4\\\\\\end{bmatrix}"
      ],
      "text/plain": [
       "array([[1, 2],\n",
       "       [3, 4]])"
      ]
     },
     "execution_count": 4,
     "metadata": {},
     "output_type": "execute_result"
    }
   ],
   "source": [
    "np.array([[1,2],[3,4]])"
   ]
  },
  {
   "cell_type": "code",
   "execution_count": 5,
   "metadata": {
    "collapsed": false
   },
   "outputs": [
    {
     "data": {
      "text/latex": [
       "\\begin{bmatrix}1&2\\\\\\end{bmatrix}"
      ],
      "text/plain": [
       "matrix([[1, 2]])"
      ]
     },
     "execution_count": 5,
     "metadata": {},
     "output_type": "execute_result"
    }
   ],
   "source": [
    "np.matrix([1,2])"
   ]
  },
  {
   "cell_type": "code",
   "execution_count": 6,
   "metadata": {
    "collapsed": false
   },
   "outputs": [
    {
     "data": {
      "text/latex": [
       "\\begin{bmatrix}1\\\\2\\end{bmatrix}"
      ],
      "text/plain": [
       "array([1, 2])"
      ]
     },
     "execution_count": 6,
     "metadata": {},
     "output_type": "execute_result"
    }
   ],
   "source": [
    "np.array([1,2])"
   ]
  },
  {
   "cell_type": "code",
   "execution_count": 7,
   "metadata": {
    "collapsed": false
   },
   "outputs": [
    {
     "data": {
      "text/latex": [
       "\\begin{bmatrix}1\\\\ 2\\\\\\end{bmatrix}"
      ],
      "text/plain": [
       "matrix([[1],\n",
       "        [2]])"
      ]
     },
     "execution_count": 7,
     "metadata": {},
     "output_type": "execute_result"
    }
   ],
   "source": [
    "np.matrix([[1],[2]])"
   ]
  },
  {
   "cell_type": "code",
   "execution_count": 8,
   "metadata": {
    "collapsed": false
   },
   "outputs": [
    {
     "data": {
      "text/latex": [
       "\\begin{bmatrix}1\\\\2\\end{bmatrix}"
      ],
      "text/plain": [
       "array([1, 2])"
      ]
     },
     "execution_count": 8,
     "metadata": {},
     "output_type": "execute_result"
    }
   ],
   "source": [
    "a=np.array([1,2])\n",
    "b=np.array([3,4])\n",
    "a"
   ]
  },
  {
   "cell_type": "code",
   "execution_count": 9,
   "metadata": {
    "collapsed": false
   },
   "outputs": [
    {
     "data": {
      "text/plain": [
       "11"
      ]
     },
     "execution_count": 9,
     "metadata": {},
     "output_type": "execute_result"
    }
   ],
   "source": [
    "np.dot(a,b)"
   ]
  },
  {
   "cell_type": "code",
   "execution_count": 10,
   "metadata": {
    "collapsed": false
   },
   "outputs": [
    {
     "data": {
      "text/latex": [
       "\\begin{bmatrix}1&2\\\\ 3&4\\\\\\end{bmatrix}"
      ],
      "text/plain": [
       "array([[1, 2],\n",
       "       [3, 4]])"
      ]
     },
     "execution_count": 10,
     "metadata": {},
     "output_type": "execute_result"
    }
   ],
   "source": [
    "A=np.array([[1,2],[3,4]])\n",
    "A"
   ]
  },
  {
   "cell_type": "code",
   "execution_count": 11,
   "metadata": {
    "collapsed": false
   },
   "outputs": [
    {
     "data": {
      "text/latex": [
       "\\begin{bmatrix}5\\\\11\\end{bmatrix}"
      ],
      "text/plain": [
       "array([ 5, 11])"
      ]
     },
     "execution_count": 11,
     "metadata": {},
     "output_type": "execute_result"
    }
   ],
   "source": [
    "np.dot(A,a)"
   ]
  },
  {
   "cell_type": "code",
   "execution_count": 12,
   "metadata": {
    "collapsed": false
   },
   "outputs": [
    {
     "data": {
      "text/latex": [
       "\\begin{bmatrix}1&2\\\\ 3&4\\\\\\end{bmatrix}"
      ],
      "text/plain": [
       "array([[1, 2],\n",
       "       [3, 4]])"
      ]
     },
     "execution_count": 12,
     "metadata": {},
     "output_type": "execute_result"
    }
   ],
   "source": [
    "A=np.array([[1,2],[3,4]])\n",
    "A"
   ]
  },
  {
   "cell_type": "code",
   "execution_count": 13,
   "metadata": {
    "collapsed": false
   },
   "outputs": [
    {
     "data": {
      "text/latex": [
       "\\begin{bmatrix}-2.0&1.0\\\\ 1.5&-0.5\\\\\\end{bmatrix}"
      ],
      "text/plain": [
       "array([[-2. ,  1. ],\n",
       "       [ 1.5, -0.5]])"
      ]
     },
     "execution_count": 13,
     "metadata": {},
     "output_type": "execute_result"
    }
   ],
   "source": [
    "linalg.inv(A)"
   ]
  },
  {
   "cell_type": "code",
   "execution_count": 14,
   "metadata": {
    "collapsed": false
   },
   "outputs": [
    {
     "data": {
      "text/latex": [
       "\\begin{bmatrix}1.0&0.0\\\\ 0.00000&1.0\\\\\\end{bmatrix}"
      ],
      "text/plain": [
       "array([[  1.00000000e+00,   0.00000000e+00],\n",
       "       [  8.88178420e-16,   1.00000000e+00]])"
      ]
     },
     "execution_count": 14,
     "metadata": {},
     "output_type": "execute_result"
    }
   ],
   "source": [
    "A.dot(linalg.inv(A))"
   ]
  },
  {
   "cell_type": "code",
   "execution_count": 15,
   "metadata": {
    "collapsed": false
   },
   "outputs": [
    {
     "data": {
      "text/latex": [
       "\\begin{bmatrix}5\\\\ 6\\\\\\end{bmatrix}"
      ],
      "text/plain": [
       "array([[5],\n",
       "       [6]])"
      ]
     },
     "execution_count": 15,
     "metadata": {},
     "output_type": "execute_result"
    }
   ],
   "source": [
    "b=np.array([[5],[6]])\n",
    "b"
   ]
  },
  {
   "cell_type": "code",
   "execution_count": 16,
   "metadata": {
    "collapsed": false
   },
   "outputs": [
    {
     "data": {
      "text/latex": [
       "\\begin{bmatrix}-4.0\\\\ 4.5\\\\\\end{bmatrix}"
      ],
      "text/plain": [
       "array([[-4. ],\n",
       "       [ 4.5]])"
      ]
     },
     "execution_count": 16,
     "metadata": {},
     "output_type": "execute_result"
    }
   ],
   "source": [
    "np.linalg.solve(A,b)"
   ]
  },
  {
   "cell_type": "code",
   "execution_count": 17,
   "metadata": {
    "collapsed": false
   },
   "outputs": [
    {
     "data": {
      "text/latex": [
       "\\begin{bmatrix}-4.0\\\\ 4.5\\\\\\end{bmatrix}"
      ],
      "text/plain": [
       "array([[-4. ],\n",
       "       [ 4.5]])"
      ]
     },
     "execution_count": 17,
     "metadata": {},
     "output_type": "execute_result"
    }
   ],
   "source": [
    "np.dot(linalg.inv(A),b)"
   ]
  },
  {
   "cell_type": "code",
   "execution_count": 18,
   "metadata": {
    "collapsed": false
   },
   "outputs": [
    {
     "data": {
      "text/plain": [
       "-2.0"
      ]
     },
     "execution_count": 18,
     "metadata": {},
     "output_type": "execute_result"
    }
   ],
   "source": [
    "linalg.det(A)"
   ]
  },
  {
   "cell_type": "code",
   "execution_count": 19,
   "metadata": {
    "collapsed": false
   },
   "outputs": [
    {
     "data": {
      "text/plain": [
       "5.4772255750516612"
      ]
     },
     "execution_count": 19,
     "metadata": {},
     "output_type": "execute_result"
    }
   ],
   "source": [
    "linalg.norm(A)"
   ]
  },
  {
   "cell_type": "markdown",
   "metadata": {},
   "source": [
    "However,`linalg.norm` is a function to compute matrix norm number.In this(deafault) case,it ccompute 2-norm,the max $\\sigma_i$ ,where $\\sigma$ is singular value.In other case,we can run a singular value decomposition for that.\n",
    "\n",
    "$$\n",
    "A=U\\Sigma V^H\n",
    "$$"
   ]
  },
  {
   "cell_type": "code",
   "execution_count": 20,
   "metadata": {
    "collapsed": true
   },
   "outputs": [],
   "source": [
    "U,Sigma,VH=linalg.svd(A)"
   ]
  },
  {
   "cell_type": "code",
   "execution_count": 21,
   "metadata": {
    "collapsed": false
   },
   "outputs": [
    {
     "data": {
      "text/latex": [
       "\\begin{bmatrix}5.46498570422\\\\0.365966190626\\end{bmatrix}"
      ],
      "text/plain": [
       "array([ 5.4649857 ,  0.36596619])"
      ]
     },
     "execution_count": 21,
     "metadata": {},
     "output_type": "execute_result"
    }
   ],
   "source": [
    "Sigma"
   ]
  },
  {
   "cell_type": "markdown",
   "metadata": {},
   "source": [
    "It's confusing,it gave number different too big."
   ]
  },
  {
   "cell_type": "markdown",
   "metadata": {},
   "source": [
    "## pseudo-inverse and least-squares problems\n",
    "\n",
    "The pseudo-inverse of matrix $A$ is defined as $(A^HA)^{-1}A^H$ if $A^HA$ is invertible.For example:"
   ]
  },
  {
   "cell_type": "code",
   "execution_count": 22,
   "metadata": {
    "collapsed": false
   },
   "outputs": [
    {
     "data": {
      "text/latex": [
       "\\begin{bmatrix}1&2&3\\\\ 4&5&6\\\\ 7&8&9\\\\ 10&11&12\\\\ 13&14&15\\\\\\end{bmatrix}"
      ],
      "text/plain": [
       "array([[ 1,  2,  3],\n",
       "       [ 4,  5,  6],\n",
       "       [ 7,  8,  9],\n",
       "       [10, 11, 12],\n",
       "       [13, 14, 15]])"
      ]
     },
     "execution_count": 22,
     "metadata": {},
     "output_type": "execute_result"
    }
   ],
   "source": [
    "D=np.array([[1,2,3],[4,5,6],[7,8,9],[10,11,12],[13,14,15]])\n",
    "D"
   ]
  },
  {
   "cell_type": "code",
   "execution_count": 23,
   "metadata": {
    "collapsed": false
   },
   "outputs": [
    {
     "data": {
      "text/latex": [
       "\\begin{bmatrix}-2296&-5635&-8974&-12313&-15652\\\\ -2546&-6245&-9944&-13643&-17342\\\\ -2796&-6855&-10914&-14973&-19032\\\\\\end{bmatrix}"
      ],
      "text/plain": [
       "array([[ -2296,  -5635,  -8974, -12313, -15652],\n",
       "       [ -2546,  -6245,  -9944, -13643, -17342],\n",
       "       [ -2796,  -6855, -10914, -14973, -19032]])"
      ]
     },
     "execution_count": 23,
     "metadata": {},
     "output_type": "execute_result"
    }
   ],
   "source": [
    "np.dot(np.invert(np.dot(D.T,D)),D.T)"
   ]
  },
  {
   "cell_type": "code",
   "execution_count": 24,
   "metadata": {
    "collapsed": false
   },
   "outputs": [
    {
     "data": {
      "text/latex": [
       "\\begin{bmatrix}-414260&-459130&-504000\\\\ -459010&-508730&-558450\\\\ -503760&-558330&-612900\\\\\\end{bmatrix}"
      ],
      "text/plain": [
       "array([[-414260, -459130, -504000],\n",
       "       [-459010, -508730, -558450],\n",
       "       [-503760, -558330, -612900]])"
      ]
     },
     "execution_count": 24,
     "metadata": {},
     "output_type": "execute_result"
    }
   ],
   "source": [
    "np.dot(np.dot(np.invert(np.dot(D.T,D)),D.T),D)"
   ]
  },
  {
   "cell_type": "code",
   "execution_count": 25,
   "metadata": {
    "collapsed": false
   },
   "outputs": [
    {
     "data": {
      "text/latex": [
       "\\begin{bmatrix}-15776&-38690&-61604&-84518&-107432\\\\ -38690&-94895&-151100&-207305&-263510\\\\ -61604&-151100&-240596&-330092&-419588\\\\ -84518&-207305&-330092&-452879&-575666\\\\ -107432&-263510&-419588&-575666&-731744\\\\\\end{bmatrix}"
      ],
      "text/plain": [
       "array([[ -15776,  -38690,  -61604,  -84518, -107432],\n",
       "       [ -38690,  -94895, -151100, -207305, -263510],\n",
       "       [ -61604, -151100, -240596, -330092, -419588],\n",
       "       [ -84518, -207305, -330092, -452879, -575666],\n",
       "       [-107432, -263510, -419588, -575666, -731744]])"
      ]
     },
     "execution_count": 25,
     "metadata": {},
     "output_type": "execute_result"
    }
   ],
   "source": [
    "np.dot(D,np.dot(np.invert(np.dot(D.T,D)),D.T))"
   ]
  },
  {
   "cell_type": "markdown",
   "metadata": {},
   "source": [
    "It appear in least-squares problems,if we let $pi(A)$ be the pseudo-inverse of $A$,then\n",
    "$$c=pi(A)b$$\n",
    "for\n",
    "$$\\underset{c}{min} \\sum_{i=1}^m((\\sum_{j=1}^n A_{ij}c_j)-b_i)^2$$"
   ]
  },
  {
   "cell_type": "code",
   "execution_count": 26,
   "metadata": {
    "collapsed": false
   },
   "outputs": [
    {
     "data": {
      "text/latex": [
       "\\begin{bmatrix}1&2&3&4&5&6&7&8&9&10\\\\\\end{bmatrix}"
      ],
      "text/plain": [
       "matrix([[ 1,  2,  3,  4,  5,  6,  7,  8,  9, 10]])"
      ]
     },
     "execution_count": 26,
     "metadata": {},
     "output_type": "execute_result"
    }
   ],
   "source": [
    "c1,c2=5.0,2.0\n",
    "i=np.r_[1:11]\n",
    "np.matrix(i)"
   ]
  },
  {
   "cell_type": "code",
   "execution_count": 27,
   "metadata": {
    "collapsed": false
   },
   "outputs": [
    {
     "data": {
      "text/latex": [
       "\\begin{bmatrix}4.72418709018\\\\4.49365376539\\\\4.30409110341\\\\4.15160023018\\\\4.03265329856\\\\3.94405818047\\\\3.88292651896\\\\3.84664482059\\\\3.8328482987\\\\3.83939720586\\end{bmatrix}"
      ],
      "text/plain": [
       "array([ 4.72418709,  4.49365377,  4.3040911 ,  4.15160023,  4.0326533 ,\n",
       "        3.94405818,  3.88292652,  3.84664482,  3.8328483 ,  3.83939721])"
      ]
     },
     "execution_count": 27,
     "metadata": {},
     "output_type": "execute_result"
    }
   ],
   "source": [
    "xi=0.1*i\n",
    "yi=c1*np.exp(-xi)+c2*xi\n",
    "yi"
   ]
  },
  {
   "cell_type": "code",
   "execution_count": 28,
   "metadata": {
    "collapsed": true
   },
   "outputs": [],
   "source": [
    "zi=yi+0.05*np.max(yi)*np.random.randn(len(yi))"
   ]
  },
  {
   "cell_type": "code",
   "execution_count": 29,
   "metadata": {
    "collapsed": false
   },
   "outputs": [
    {
     "data": {
      "text/latex": [
       "\\begin{bmatrix}4.92537123824\\\\5.03451840944\\\\3.98139161706\\\\4.15321227897\\\\3.89421097802\\\\3.83964805663\\\\3.22940337489\\\\3.81551828227\\\\4.00864385697\\\\3.67647266662\\end{bmatrix}"
      ],
      "text/plain": [
       "array([ 4.92537124,  5.03451841,  3.98139162,  4.15321228,  3.89421098,\n",
       "        3.83964806,  3.22940337,  3.81551828,  4.00864386,  3.67647267])"
      ]
     },
     "execution_count": 29,
     "metadata": {},
     "output_type": "execute_result"
    }
   ],
   "source": [
    "zi"
   ]
  },
  {
   "cell_type": "code",
   "execution_count": 30,
   "metadata": {
    "collapsed": false
   },
   "outputs": [
    {
     "data": {
      "text/latex": [
       "\\begin{bmatrix}0.90484&0.1\\\\ 0.81873&0.2\\\\ 0.74082&0.3\\\\ 0.67032&0.4\\\\ 0.60653&0.5\\\\ 0.54881&0.6\\\\ 0.49659&0.7\\\\ 0.44933&0.8\\\\ 0.40657&0.9\\\\ 0.36788&1.0\\\\\\end{bmatrix}"
      ],
      "text/plain": [
       "array([[ 0.90483742,  0.1       ],\n",
       "       [ 0.81873075,  0.2       ],\n",
       "       [ 0.74081822,  0.3       ],\n",
       "       [ 0.67032005,  0.4       ],\n",
       "       [ 0.60653066,  0.5       ],\n",
       "       [ 0.54881164,  0.6       ],\n",
       "       [ 0.4965853 ,  0.7       ],\n",
       "       [ 0.44932896,  0.8       ],\n",
       "       [ 0.40656966,  0.9       ],\n",
       "       [ 0.36787944,  1.        ]])"
      ]
     },
     "execution_count": 30,
     "metadata": {},
     "output_type": "execute_result"
    }
   ],
   "source": [
    "A=np.c_[np.exp(-xi)[:,np.newaxis],xi[:,np.newaxis]]\n",
    "A"
   ]
  },
  {
   "cell_type": "code",
   "execution_count": 31,
   "metadata": {
    "collapsed": false
   },
   "outputs": [
    {
     "data": {
      "text/latex": [
       "\\begin{bmatrix}5.18893272667\\\\1.70929007229\\end{bmatrix}"
      ],
      "text/plain": [
       "array([ 5.18893273,  1.70929007])"
      ]
     },
     "execution_count": 31,
     "metadata": {},
     "output_type": "execute_result"
    }
   ],
   "source": [
    "c,resid,rank,sigma=linalg.lstsq(A,zi)\n",
    "c"
   ]
  },
  {
   "cell_type": "code",
   "execution_count": 32,
   "metadata": {
    "collapsed": false
   },
   "outputs": [
    {
     "data": {
      "image/png": "[encoded data removed]",
      "text/plain": [
       "<matplotlib.figure.Figure at 0x3a125c0>"
      ]
     },
     "metadata": {},
     "output_type": "display_data"
    }
   ],
   "source": [
    "xi2=np.r_[0.1,1.0:100]\n",
    "yi2=c[0]*np.exp(-xi2)+c[1]*xi2\n",
    "plt.plot(xi,zi,'x',xi2,yi2)\n",
    "plt.axis([0,1.1,3.0,5.5])\n",
    "plt.xlabel('$x_i$')\n",
    "plt.title('Data fitting with linalg.lstsq')\n",
    "plt.show()"
   ]
  },
  {
   "cell_type": "code",
   "execution_count": 33,
   "metadata": {
    "collapsed": false
   },
   "outputs": [
    {
     "data": {
      "text/latex": [
       "\\begin{bmatrix}(0.1+0j)\\end{bmatrix}"
      ],
      "text/plain": [
       "array([ 0.1+0.j])"
      ]
     },
     "execution_count": 33,
     "metadata": {},
     "output_type": "execute_result"
    }
   ],
   "source": [
    "np.r_[0.1,1.0:100j]"
   ]
  },
  {
   "cell_type": "code",
   "execution_count": 34,
   "metadata": {
    "collapsed": false
   },
   "outputs": [
    {
     "data": {
      "text/latex": [
       "\\begin{bmatrix}-2296&-5635&-8974&-12313&-15652\\\\ -2546&-6245&-9944&-13643&-17342\\\\ -2796&-6855&-10914&-14973&-19032\\\\\\end{bmatrix}"
      ],
      "text/plain": [
       "matrix([[ -2296,  -5635,  -8974, -12313, -15652],\n",
       "        [ -2546,  -6245,  -9944, -13643, -17342],\n",
       "        [ -2796,  -6855, -10914, -14973, -19032]])"
      ]
     },
     "execution_count": 34,
     "metadata": {},
     "output_type": "execute_result"
    }
   ],
   "source": [
    "D=np.matrix(D)\n",
    "np.dot(np.invert(np.dot(D.T,D)),D.T)"
   ]
  },
  {
   "cell_type": "code",
   "execution_count": 35,
   "metadata": {
    "collapsed": false
   },
   "outputs": [
    {
     "data": {
      "text/latex": [
       "\\begin{bmatrix}-0.38889&-0.24444&-0.1&0.04444&0.18889\\\\ -0.02222&-0.01111&-0.00000&0.01111&0.02222\\\\ 0.34444&0.22222&0.1&-0.02222&-0.14444\\\\\\end{bmatrix}"
      ],
      "text/plain": [
       "array([[ -3.88888889e-01,  -2.44444444e-01,  -1.00000000e-01,\n",
       "          4.44444444e-02,   1.88888889e-01],\n",
       "       [ -2.22222222e-02,  -1.11111111e-02,  -4.85722573e-17,\n",
       "          1.11111111e-02,   2.22222222e-02],\n",
       "       [  3.44444444e-01,   2.22222222e-01,   1.00000000e-01,\n",
       "         -2.22222222e-02,  -1.44444444e-01]])"
      ]
     },
     "execution_count": 35,
     "metadata": {},
     "output_type": "execute_result"
    }
   ],
   "source": [
    "linalg.pinv(D)"
   ]
  },
  {
   "cell_type": "code",
   "execution_count": 36,
   "metadata": {
    "collapsed": false
   },
   "outputs": [
    {
     "data": {
      "text/latex": [
       "\\begin{bmatrix}-0.38889&-0.24444&-0.1&0.04444&0.18889\\\\ -0.02222&-0.01111&-0.00000&0.01111&0.02222\\\\ 0.34444&0.22222&0.1&-0.02222&-0.14444\\\\\\end{bmatrix}"
      ],
      "text/plain": [
       "array([[ -3.88888889e-01,  -2.44444444e-01,  -1.00000000e-01,\n",
       "          4.44444444e-02,   1.88888889e-01],\n",
       "       [ -2.22222222e-02,  -1.11111111e-02,  -4.31918492e-17,\n",
       "          1.11111111e-02,   2.22222222e-02],\n",
       "       [  3.44444444e-01,   2.22222222e-01,   1.00000000e-01,\n",
       "         -2.22222222e-02,  -1.44444444e-01]])"
      ]
     },
     "execution_count": 36,
     "metadata": {},
     "output_type": "execute_result"
    }
   ],
   "source": [
    "linalg.pinv2(D)"
   ]
  },
  {
   "cell_type": "code",
   "execution_count": 37,
   "metadata": {
    "collapsed": false
   },
   "outputs": [
    {
     "data": {
      "text/latex": [
       "\\begin{bmatrix}0.15625&0.09375&0.04688&0.0625&0.01562\\\\ -1.09375&-0.68750&-0.21875&0.125&0.46875\\\\ 0.89453&0.57031&0.24609&0.01562&-0.40234\\\\\\end{bmatrix}"
      ],
      "text/plain": [
       "matrix([[ 0.15625   ,  0.09375   ,  0.046875  ,  0.0625    ,  0.015625  ],\n",
       "        [-1.09375   , -0.6875    , -0.21875   ,  0.125     ,  0.46875   ],\n",
       "        [ 0.89453125,  0.5703125 ,  0.24609375,  0.015625  , -0.40234375]])"
      ]
     },
     "execution_count": 37,
     "metadata": {},
     "output_type": "execute_result"
    }
   ],
   "source": [
    " (D.T*D).I*D.T"
   ]
  },
  {
   "cell_type": "markdown",
   "metadata": {},
   "source": [
    "It's not match! However MatLab give same value for `linalg.pinv` and all inf matrix to third compute beacause \"Warning: Matrix is singular to working precision. \"It's a poor number example."
   ]
  },
  {
   "cell_type": "code",
   "execution_count": 38,
   "metadata": {
    "collapsed": false
   },
   "outputs": [
    {
     "data": {
      "text/latex": [
       "\\begin{bmatrix}0.64997&0.89450&0.22237\\\\ 0.35518&0.69095&0.21853\\\\ 0.85010&0.95257&0.20702\\\\ 0.26824&0.77371&0.08212\\\\ 0.68568&0.85270&0.17010\\\\\\end{bmatrix}"
      ],
      "text/plain": [
       "matrix([[ 0.6499728 ,  0.89450088,  0.22237218],\n",
       "        [ 0.35518321,  0.69095024,  0.21852958],\n",
       "        [ 0.85009898,  0.95257335,  0.20702451],\n",
       "        [ 0.26824149,  0.77371401,  0.08211686],\n",
       "        [ 0.68567994,  0.85270342,  0.17009701]])"
      ]
     },
     "execution_count": 38,
     "metadata": {},
     "output_type": "execute_result"
    }
   ],
   "source": [
    "A=np.matrix(np.random.rand(5,3))\n",
    "A"
   ]
  },
  {
   "cell_type": "code",
   "execution_count": 39,
   "metadata": {
    "collapsed": false
   },
   "outputs": [
    {
     "data": {
      "text/latex": [
       "\\begin{bmatrix}-0.00671&-1.67289&1.60026&-1.49650&0.93278\\\\ -0.23316&-0.18028&-0.49978&2.30103&0.03385\\\\ 2.28847&7.12858&-1.56097&-4.85613&-2.02690\\\\\\end{bmatrix}"
      ],
      "text/plain": [
       "array([[ -6.71493818e-03,  -1.67288749e+00,   1.60026219e+00,\n",
       "         -1.49649969e+00,   9.32779409e-01],\n",
       "       [ -2.33162927e-01,  -1.80276609e-01,  -4.99781219e-01,\n",
       "          2.30102737e+00,   3.38543996e-02],\n",
       "       [  2.28846929e+00,   7.12858124e+00,  -1.56096895e+00,\n",
       "         -4.85612734e+00,  -2.02689644e+00]])"
      ]
     },
     "execution_count": 39,
     "metadata": {},
     "output_type": "execute_result"
    }
   ],
   "source": [
    "linalg.pinv(A)"
   ]
  },
  {
   "cell_type": "code",
   "execution_count": 40,
   "metadata": {
    "collapsed": false
   },
   "outputs": [
    {
     "data": {
      "text/latex": [
       "\\begin{bmatrix}-0.00671&-1.67289&1.60026&-1.49650&0.93278\\\\ -0.23316&-0.18028&-0.49978&2.30103&0.03385\\\\ 2.28847&7.12858&-1.56097&-4.85613&-2.02690\\\\\\end{bmatrix}"
      ],
      "text/plain": [
       "matrix([[ -6.71493818e-03,  -1.67288749e+00,   1.60026219e+00,\n",
       "          -1.49649969e+00,   9.32779409e-01],\n",
       "        [ -2.33162927e-01,  -1.80276609e-01,  -4.99781219e-01,\n",
       "           2.30102737e+00,   3.38543996e-02],\n",
       "        [  2.28846929e+00,   7.12858124e+00,  -1.56096895e+00,\n",
       "          -4.85612734e+00,  -2.02689644e+00]])"
      ]
     },
     "execution_count": 40,
     "metadata": {},
     "output_type": "execute_result"
    }
   ],
   "source": [
    " (A.T*A).I*A.T"
   ]
  },
  {
   "cell_type": "markdown",
   "metadata": {},
   "source": [
    "So,in this case,it works."
   ]
  },
  {
   "cell_type": "markdown",
   "metadata": {},
   "source": [
    "## Decompositions\n",
    "\n",
    "### Eigenvalues and eigenvectors"
   ]
  },
  {
   "cell_type": "code",
   "execution_count": 41,
   "metadata": {
    "collapsed": false
   },
   "outputs": [
    {
     "data": {
      "text/latex": [
       "\\begin{bmatrix}1&5&2\\\\ 2&4&1\\\\ 3&6&2\\\\\\end{bmatrix}"
      ],
      "text/plain": [
       "matrix([[1, 5, 2],\n",
       "        [2, 4, 1],\n",
       "        [3, 6, 2]])"
      ]
     },
     "execution_count": 41,
     "metadata": {},
     "output_type": "execute_result"
    }
   ],
   "source": [
    "A=np.matrix([[1,5,2],[2,4,1],[3,6,2]])\n",
    "A"
   ]
  },
  {
   "cell_type": "code",
   "execution_count": 42,
   "metadata": {
    "collapsed": false
   },
   "outputs": [
    {
     "data": {
      "text/latex": [
       "\\begin{bmatrix}(7.95791620491+0j)\\\\(-1.25766470568+0j)\\\\(0.299748500767+0j)\\end{bmatrix}"
      ],
      "text/plain": [
       "array([ 7.95791620+0.j, -1.25766471+0.j,  0.29974850+0.j])"
      ]
     },
     "execution_count": 42,
     "metadata": {},
     "output_type": "execute_result"
    }
   ],
   "source": [
    "lam,v=linalg.eig(A)\n",
    "lam"
   ]
  },
  {
   "cell_type": "code",
   "execution_count": 43,
   "metadata": {
    "collapsed": false
   },
   "outputs": [
    {
     "data": {
      "text/latex": [
       "\\begin{bmatrix}-0.52972&-0.90731&0.28381\\\\ -0.44942&0.28663&-0.39012\\\\ -0.71932&0.30763&0.87593\\\\\\end{bmatrix}"
      ],
      "text/plain": [
       "array([[-0.5297175 , -0.90730751,  0.28380519],\n",
       "       [-0.44941741,  0.28662547, -0.39012063],\n",
       "       [-0.71932146,  0.30763439,  0.87593408]])"
      ]
     },
     "execution_count": 43,
     "metadata": {},
     "output_type": "execute_result"
    }
   ],
   "source": [
    "v"
   ]
  },
  {
   "cell_type": "markdown",
   "metadata": {},
   "source": [
    "So,we can check the definition.\n",
    "$$Ax=\\lambda x$$"
   ]
  },
  {
   "cell_type": "code",
   "execution_count": 44,
   "metadata": {
    "collapsed": false
   },
   "outputs": [
    {
     "data": {
      "text/latex": [
       "\\begin{bmatrix}-0.52971749987\\\\-0.449417412031\\\\-0.719321458108\\end{bmatrix}"
      ],
      "text/plain": [
       "array([-0.5297175 , -0.44941741, -0.71932146])"
      ]
     },
     "execution_count": 44,
     "metadata": {},
     "output_type": "execute_result"
    }
   ],
   "source": [
    "v[:,0]"
   ]
  },
  {
   "cell_type": "code",
   "execution_count": 45,
   "metadata": {
    "collapsed": false
   },
   "outputs": [
    {
     "data": {
      "text/latex": [
       "\\begin{bmatrix}7.95792&7.95792&7.95792\\\\\\end{bmatrix}"
      ],
      "text/plain": [
       "matrix([[ 7.9579162,  7.9579162,  7.9579162]])"
      ]
     },
     "execution_count": 45,
     "metadata": {},
     "output_type": "execute_result"
    }
   ],
   "source": [
    "np.dot(A,v[:,0])/v[:,0]"
   ]
  },
  {
   "cell_type": "markdown",
   "metadata": {},
   "source": [
    "and decomposition property\n",
    "$$A=V\\lambda V^{-1}$$"
   ]
  },
  {
   "cell_type": "code",
   "execution_count": 46,
   "metadata": {
    "collapsed": false
   },
   "outputs": [
    {
     "data": {
      "text/latex": [
       "\\begin{bmatrix}7.95792+0.00000j&0j&0j\\\\ 0j&-1.25766+0.00000j&0j\\\\ 0j&0j&0.29975+0.00000j\\\\\\end{bmatrix}"
      ],
      "text/plain": [
       "array([[ 7.95791620+0.j,  0.00000000+0.j,  0.00000000+0.j],\n",
       "       [ 0.00000000+0.j, -1.25766471+0.j,  0.00000000+0.j],\n",
       "       [ 0.00000000+0.j,  0.00000000+0.j,  0.29974850+0.j]])"
      ]
     },
     "execution_count": 46,
     "metadata": {},
     "output_type": "execute_result"
    }
   ],
   "source": [
    "np.diag(lam)"
   ]
  },
  {
   "cell_type": "code",
   "execution_count": 47,
   "metadata": {
    "collapsed": false
   },
   "outputs": [
    {
     "data": {
      "text/latex": [
       "\\begin{bmatrix}1.0&5.0&2.0\\\\ 2.0&4.0&1.0\\\\ 3.0&6.0&2.0\\\\\\end{bmatrix}"
      ],
      "text/plain": [
       "matrix([[ 1.,  5.,  2.],\n",
       "        [ 2.,  4.,  1.],\n",
       "        [ 3.,  6.,  2.]])"
      ]
     },
     "execution_count": 47,
     "metadata": {},
     "output_type": "execute_result"
    }
   ],
   "source": [
    "v=np.matrix(v)\n",
    "lam=np.diag(lam)\n",
    "(v*lam*v.I).real"
   ]
  },
  {
   "cell_type": "markdown",
   "metadata": {},
   "source": [
    "So we can run iteration quickly,\n",
    "$$A^{10}x=V\\lambda^{10} V^{-1}x$$"
   ]
  },
  {
   "cell_type": "code",
   "execution_count": 48,
   "metadata": {
    "collapsed": false
   },
   "outputs": [
    {
     "data": {
      "text/latex": [
       "\\begin{bmatrix}253739432&603134323&186409663\\\\ 215274961&511704953&158151752\\\\ 344561415&819016671&253132045\\\\\\end{bmatrix}"
      ],
      "text/plain": [
       "matrix([[253739432, 603134323, 186409663],\n",
       "        [215274961, 511704953, 158151752],\n",
       "        [344561415, 819016671, 253132045]])"
      ]
     },
     "execution_count": 48,
     "metadata": {},
     "output_type": "execute_result"
    }
   ],
   "source": [
    "A**10"
   ]
  },
  {
   "cell_type": "code",
   "execution_count": 49,
   "metadata": {
    "collapsed": false,
    "scrolled": true
   },
   "outputs": [
    {
     "data": {
      "text/latex": [
       "\\begin{bmatrix}253739432.00000&603134323.00000&186409663.00000\\\\ 215274961.00000&511704953.00000&158151752.00000\\\\ 344561415.00000&819016671.00000&253132045.00000\\\\\\end{bmatrix}"
      ],
      "text/plain": [
       "matrix([[  2.53739432e+08,   6.03134323e+08,   1.86409663e+08],\n",
       "        [  2.15274961e+08,   5.11704953e+08,   1.58151752e+08],\n",
       "        [  3.44561415e+08,   8.19016671e+08,   2.53132045e+08]])"
      ]
     },
     "execution_count": 49,
     "metadata": {},
     "output_type": "execute_result"
    }
   ],
   "source": [
    "(v*lam**10*v.I).real"
   ]
  },
  {
   "cell_type": "markdown",
   "metadata": {},
   "source": [
    "Gram–Schmidt process indicate all real symmetric matrix can find a orthogonal matrix to eigenvalues  decomposition.\n",
    "$$\n",
    "\\begin{aligned}\n",
    "&\\text{for all } &A&=A^T \\\\\n",
    "&\\text{exist } &O^T&=O^{-1} \\\\\n",
    "&\\text{st. } &A&=O\\lambda O^T\n",
    "\\end{aligned}\n",
    "$$"
   ]
  },
  {
   "cell_type": "code",
   "execution_count": 50,
   "metadata": {
    "collapsed": false
   },
   "outputs": [
    {
     "data": {
      "text/plain": [
       "[array([ 0.70710678, -0.70710678,  0.        ]),\n",
       " array([ 0.,  0.,  1.]),\n",
       " array([ 0.70710678,  0.70710678,  0.        ])]"
      ]
     },
     "execution_count": 50,
     "metadata": {},
     "output_type": "execute_result"
    }
   ],
   "source": [
    "def proj(u,v):\n",
    "    return (np.dot(v,u)/np.dot(u,u))*u\n",
    "\n",
    "def Gram_Schmidt_process(vector_l):\n",
    "    u_l=[vector_l[0]]\n",
    "    for i in range(1,len(vector_l)):\n",
    "        u_i=vector_l[i].copy()\n",
    "        for j in range(i):\n",
    "            u_i-=proj(u_l[j],vector_l[i])\n",
    "        u_l.append(u_i)\n",
    "    return [u/np.sqrt(np.dot(u,u)) for u in u_l]\n",
    "\n",
    "a1=np.array([1,-1,0])\n",
    "a2=np.array([-1,1,1])\n",
    "a3=np.array([1,1,1])\n",
    "\n",
    "Gram_Schmidt_process([a1,a2,a3])"
   ]
  },
  {
   "cell_type": "code",
   "execution_count": 51,
   "metadata": {
    "collapsed": false
   },
   "outputs": [
    {
     "data": {
      "text/latex": [
       "\\begin{bmatrix}0&1&1&-1\\\\ 1&0&-1&1\\\\ 1&-1&0&1\\\\ -1&1&1&0\\\\\\end{bmatrix}"
      ],
      "text/plain": [
       "matrix([[ 0,  1,  1, -1],\n",
       "        [ 1,  0, -1,  1],\n",
       "        [ 1, -1,  0,  1],\n",
       "        [-1,  1,  1,  0]])"
      ]
     },
     "execution_count": 51,
     "metadata": {},
     "output_type": "execute_result"
    }
   ],
   "source": [
    "B=np.matrix([[0,1,1,-1],\n",
    "            [1,0,-1,1],\n",
    "            [1,-1,0,1],\n",
    "            [-1,1,1,0]])\n",
    "B"
   ]
  },
  {
   "cell_type": "code",
   "execution_count": 52,
   "metadata": {
    "collapsed": false
   },
   "outputs": [
    {
     "data": {
      "text/latex": [
       "\\begin{bmatrix}1.0\\\\-3.0\\\\1.0\\\\1.0\\end{bmatrix}"
      ],
      "text/plain": [
       "array([ 1., -3.,  1.,  1.])"
      ]
     },
     "execution_count": 52,
     "metadata": {},
     "output_type": "execute_result"
    }
   ],
   "source": [
    "lam,v=linalg.eig(B)\n",
    "lam.real"
   ]
  },
  {
   "cell_type": "code",
   "execution_count": 53,
   "metadata": {
    "collapsed": false
   },
   "outputs": [
    {
     "data": {
      "text/latex": [
       "\\begin{bmatrix}0.86603&0.5&0.41381&0.15076\\\\ 0.28868&-0.5&0.85519&0.05025\\\\ 0.28868&-0.5&-0.22069&0.74656\\\\ -0.28868&0.5&0.22069&0.64606\\\\\\end{bmatrix}"
      ],
      "text/plain": [
       "array([[ 0.8660254 ,  0.5       ,  0.41381232,  0.15075567],\n",
       "       [ 0.28867513, -0.5       ,  0.85519107,  0.05025189],\n",
       "       [ 0.28867513, -0.5       , -0.22068937,  0.74656251],\n",
       "       [-0.28867513,  0.5       ,  0.22068937,  0.64605873]])"
      ]
     },
     "execution_count": 53,
     "metadata": {},
     "output_type": "execute_result"
    }
   ],
   "source": [
    "v"
   ]
  },
  {
   "cell_type": "code",
   "execution_count": 54,
   "metadata": {
    "collapsed": false
   },
   "outputs": [
    {
     "data": {
      "text/latex": [
       "\\begin{bmatrix}0.86603&0.28868&0.28868&-0.28868\\\\\\end{bmatrix}"
      ],
      "text/plain": [
       "matrix([[ 0.8660254 ,  0.28867513,  0.28867513, -0.28867513]])"
      ]
     },
     "execution_count": 54,
     "metadata": {},
     "output_type": "execute_result"
    }
   ],
   "source": [
    "np.dot(B,v[:,0])"
   ]
  },
  {
   "cell_type": "code",
   "execution_count": 55,
   "metadata": {
    "collapsed": false
   },
   "outputs": [
    {
     "data": {
      "text/latex": [
       "\\begin{bmatrix}0.5\\\\-0.5\\\\-0.5\\\\0.5\\end{bmatrix}"
      ],
      "text/plain": [
       "array([ 0.5, -0.5, -0.5,  0.5])"
      ]
     },
     "execution_count": 55,
     "metadata": {},
     "output_type": "execute_result"
    }
   ],
   "source": [
    "v1,v2,v3,v4=[v[:,i] for i in range(4)]\n",
    "v2"
   ]
  },
  {
   "cell_type": "code",
   "execution_count": 56,
   "metadata": {
    "collapsed": false
   },
   "outputs": [
    {
     "data": {
      "text/plain": [
       "(array([ 0.8660254 ,  0.28867513,  0.28867513, -0.28867513]),\n",
       " array([ -1.26383927e-16,   8.16496581e-01,  -4.08248290e-01,\n",
       "          4.08248290e-01]),\n",
       " array([  2.81859203e-17,  -2.02342556e-17,   7.07106781e-01,\n",
       "          7.07106781e-01]))"
      ]
     },
     "execution_count": 56,
     "metadata": {},
     "output_type": "execute_result"
    }
   ],
   "source": [
    "v1,v3,v4=Gram_Schmidt_process([v1,v3,v4])\n",
    "v1,v3,v4"
   ]
  },
  {
   "cell_type": "code",
   "execution_count": 57,
   "metadata": {
    "collapsed": false
   },
   "outputs": [
    {
     "data": {
      "text/latex": [
       "\\begin{bmatrix}0.86603&0.5&-0.00000&0.00000\\\\ 0.28868&-0.5&0.81650&-0.00000\\\\ 0.28868&-0.5&-0.40825&0.70711\\\\ -0.28868&0.5&0.40825&0.70711\\\\\\end{bmatrix}"
      ],
      "text/plain": [
       "matrix([[  8.66025404e-01,   5.00000000e-01,  -1.26383927e-16,\n",
       "           2.81859203e-17],\n",
       "        [  2.88675135e-01,  -5.00000000e-01,   8.16496581e-01,\n",
       "          -2.02342556e-17],\n",
       "        [  2.88675135e-01,  -5.00000000e-01,  -4.08248290e-01,\n",
       "           7.07106781e-01],\n",
       "        [ -2.88675135e-01,   5.00000000e-01,   4.08248290e-01,\n",
       "           7.07106781e-01]])"
      ]
     },
     "execution_count": 57,
     "metadata": {},
     "output_type": "execute_result"
    }
   ],
   "source": [
    "V=np.matrix(np.concatenate([v1,v2,v3,v4]).reshape(4,4).T)\n",
    "V"
   ]
  },
  {
   "cell_type": "code",
   "execution_count": 58,
   "metadata": {
    "collapsed": false
   },
   "outputs": [
    {
     "data": {
      "text/latex": [
       "\\begin{bmatrix}0.00000&1.0&1.0&-1.0\\\\ 1.0&-0.00000&-1.0&1.0\\\\ 1.0&-1.0&-0.00000&1.0\\\\ -1.0&1.0&1.0&0.00000\\\\\\end{bmatrix}"
      ],
      "text/plain": [
       "matrix([[  3.33066907e-16,   1.00000000e+00,   1.00000000e+00,\n",
       "          -1.00000000e+00],\n",
       "        [  1.00000000e+00,  -1.11022302e-16,  -1.00000000e+00,\n",
       "           1.00000000e+00],\n",
       "        [  1.00000000e+00,  -1.00000000e+00,  -1.66533454e-16,\n",
       "           1.00000000e+00],\n",
       "        [ -1.00000000e+00,   1.00000000e+00,   1.00000000e+00,\n",
       "           1.11022302e-16]])"
      ]
     },
     "execution_count": 58,
     "metadata": {},
     "output_type": "execute_result"
    }
   ],
   "source": [
    "(V*np.diag(lam)*V.T).real"
   ]
  },
  {
   "cell_type": "code",
   "execution_count": 59,
   "metadata": {
    "collapsed": false
   },
   "outputs": [
    {
     "data": {
      "text/latex": [
       "\\begin{bmatrix}1.0&-0.00000&0.00000&-0.00000\\\\ -0.00000&1.0&-0.00000&0.00000\\\\ 0.00000&-0.00000&1.0&0.00000\\\\ -0.00000&0.00000&0.00000&1.0\\\\\\end{bmatrix}"
      ],
      "text/plain": [
       "matrix([[  1.00000000e+00,  -7.54364688e-17,   9.92820532e-17,\n",
       "          -5.94211425e-17],\n",
       "        [ -7.54364688e-17,   1.00000000e+00,  -5.55111512e-17,\n",
       "           5.55111512e-17],\n",
       "        [  9.92820532e-17,  -5.55111512e-17,   1.00000000e+00,\n",
       "           5.55111512e-17],\n",
       "        [ -5.94211425e-17,   5.55111512e-17,   5.55111512e-17,\n",
       "           1.00000000e+00]])"
      ]
     },
     "execution_count": 59,
     "metadata": {},
     "output_type": "execute_result"
    }
   ],
   "source": [
    "V*V.T"
   ]
  },
  {
   "cell_type": "code",
   "execution_count": 60,
   "metadata": {
    "collapsed": false
   },
   "outputs": [
    {
     "data": {
      "text/plain": [
       "numpy.matrixlib.defmatrix.matrix"
      ]
     },
     "execution_count": 60,
     "metadata": {},
     "output_type": "execute_result"
    }
   ],
   "source": [
    "type(V)"
   ]
  },
  {
   "cell_type": "code",
   "execution_count": 61,
   "metadata": {
    "collapsed": false
   },
   "outputs": [
    {
     "data": {
      "text/latex": [
       "\\begin{bmatrix}0.86603&-0.15545&0.38574&-0.63574\\\\ 0.5&-0.5&-0.5&0.5\\\\ 0.00000&0.92947&-0.46474&0.46474\\\\ -0.00000&0.0&0.71807&0.71807\\\\\\end{bmatrix}"
      ],
      "text/plain": [
       "matrix([[  8.66025404e-01,  -1.55453497e-01,   3.85739450e-01,\n",
       "          -6.35739450e-01],\n",
       "        [  5.00000000e-01,  -5.00000000e-01,  -5.00000000e-01,\n",
       "           5.00000000e-01],\n",
       "        [  6.52521505e-19,   9.29471305e-01,  -4.64735653e-01,\n",
       "           4.64735653e-01],\n",
       "        [ -1.32869702e-17,   0.00000000e+00,   7.18070331e-01,\n",
       "           7.18070331e-01]])"
      ]
     },
     "execution_count": 61,
     "metadata": {},
     "output_type": "execute_result"
    }
   ],
   "source": [
    "np.matrix(v).I"
   ]
  },
  {
   "cell_type": "markdown",
   "metadata": {},
   "source": [
    "### Singular value decomposition"
   ]
  },
  {
   "cell_type": "code",
   "execution_count": 62,
   "metadata": {
    "collapsed": false
   },
   "outputs": [
    {
     "data": {
      "text/latex": [
       "\\begin{bmatrix}1&2&3\\\\ 4&5&6\\\\\\end{bmatrix}"
      ],
      "text/plain": [
       "array([[1, 2, 3],\n",
       "       [4, 5, 6]])"
      ]
     },
     "execution_count": 62,
     "metadata": {},
     "output_type": "execute_result"
    }
   ],
   "source": [
    "A=np.array([[1,2,3],[4,5,6]])\n",
    "A"
   ]
  },
  {
   "cell_type": "code",
   "execution_count": 63,
   "metadata": {
    "collapsed": false
   },
   "outputs": [
    {
     "data": {
      "text/latex": [
       "\\begin{bmatrix}9.5080320007\\\\0.772869635673\\end{bmatrix}"
      ],
      "text/plain": [
       "array([ 9.508032  ,  0.77286964])"
      ]
     },
     "execution_count": 63,
     "metadata": {},
     "output_type": "execute_result"
    }
   ],
   "source": [
    "U,s,Vh=linalg.svd(A)\n",
    "s"
   ]
  },
  {
   "cell_type": "code",
   "execution_count": 64,
   "metadata": {
    "collapsed": false
   },
   "outputs": [
    {
     "data": {
      "text/latex": [
       "\\begin{bmatrix}1.0&2.0&3.0\\\\ 4.0&5.0&6.0\\\\\\end{bmatrix}"
      ],
      "text/plain": [
       "array([[ 1.,  2.,  3.],\n",
       "       [ 4.,  5.,  6.]])"
      ]
     },
     "execution_count": 64,
     "metadata": {},
     "output_type": "execute_result"
    }
   ],
   "source": [
    "np.dot(np.dot(U,linalg.diagsvd(s,*A.shape)),Vh)"
   ]
  },
  {
   "cell_type": "code",
   "execution_count": 65,
   "metadata": {
    "collapsed": false
   },
   "outputs": [
    {
     "data": {
      "text/latex": [
       "\\begin{bmatrix}9.50803&0.0&0.0\\\\ 0.0&0.77287&0.0\\\\\\end{bmatrix}"
      ],
      "text/plain": [
       "array([[ 9.508032  ,  0.        ,  0.        ],\n",
       "       [ 0.        ,  0.77286964,  0.        ]])"
      ]
     },
     "execution_count": 65,
     "metadata": {},
     "output_type": "execute_result"
    }
   ],
   "source": [
    "linalg.diagsvd(s,*A.shape)"
   ]
  },
  {
   "cell_type": "code",
   "execution_count": 66,
   "metadata": {
    "collapsed": false
   },
   "outputs": [
    {
     "data": {
      "text/latex": [
       "\\begin{bmatrix}-0.42867&-0.56631&-0.70395\\\\ 0.80596&0.11238&-0.58120\\\\ 0.40825&-0.81650&0.40825\\\\\\end{bmatrix}"
      ],
      "text/plain": [
       "array([[-0.42866713, -0.56630692, -0.7039467 ],\n",
       "       [ 0.80596391,  0.11238241, -0.58119908],\n",
       "       [ 0.40824829, -0.81649658,  0.40824829]])"
      ]
     },
     "execution_count": 66,
     "metadata": {},
     "output_type": "execute_result"
    }
   ],
   "source": [
    "Vh"
   ]
  },
  {
   "cell_type": "code",
   "execution_count": 67,
   "metadata": {
    "collapsed": true
   },
   "outputs": [],
   "source": [
    "def show_decomposition(*args):\n",
    "    latex=''\n",
    "    for arg in args:\n",
    "        if type(arg)==str:\n",
    "            latex+=arg\n",
    "        else:\n",
    "            latex+=matrix_to_latex(arg)\n",
    "    latex='$'+latex+'$'\n",
    "    display(Math(latex))\n",
    "    \n",
    "            "
   ]
  },
  {
   "cell_type": "code",
   "execution_count": 68,
   "metadata": {
    "collapsed": false
   },
   "outputs": [
    {
     "data": {
      "text/latex": [
       "$$\\begin{bmatrix}1&2&3\\\\ 4&5&6\\\\\\end{bmatrix}=\\begin{bmatrix}-0.38632&-0.92237\\\\ -0.92237&0.38632\\\\\\end{bmatrix}\\begin{bmatrix}9.50803&0.0&0.0\\\\ 0.0&0.77287&0.0\\\\\\end{bmatrix}\\begin{bmatrix}-0.42867&-0.56631&-0.70395\\\\ 0.80596&0.11238&-0.58120\\\\ 0.40825&-0.81650&0.40825\\\\\\end{bmatrix}$$"
      ],
      "text/plain": [
       "<IPython.core.display.Math object>"
      ]
     },
     "metadata": {},
     "output_type": "display_data"
    }
   ],
   "source": [
    "show_decomposition(A,'=',U,linalg.diagsvd(s,*A.shape),Vh)"
   ]
  },
  {
   "cell_type": "markdown",
   "metadata": {},
   "source": [
    "### application : compress"
   ]
  },
  {
   "cell_type": "code",
   "execution_count": 69,
   "metadata": {
    "collapsed": true
   },
   "outputs": [],
   "source": [
    "A=np.array(range(30)).reshape(10,3)"
   ]
  },
  {
   "cell_type": "code",
   "execution_count": 70,
   "metadata": {
    "collapsed": false
   },
   "outputs": [
    {
     "data": {
      "text/latex": [
       "$$\\begin{bmatrix}0&1&2\\\\ 3&4&5\\\\ 6&7&8\\\\ 9&10&11\\\\ 12&13&14\\\\ 15&16&17\\\\ 18&19&20\\\\ 21&22&23\\\\ 24&25&26\\\\ 27&28&29\\\\\\end{bmatrix}=\\begin{bmatrix}-0.01935&0.58744&0.80777&0.01172&0.00617&-0.00299&-0.00308&-0.00073&-0.01653&-0.03973\\\\ -0.07550&0.49273&-0.31970&-0.21303&-0.08599&0.04096&0.16814&0.29538&0.42216&0.54874\\\\ -0.13165&0.39803&-0.30497&-0.37896&-0.36004&-0.33698&-0.32432&-0.31447&-0.28378&-0.24461\\\\ -0.18779&0.30333&-0.23971&0.88856&-0.09693&-0.08190&-0.06817&-0.05480&-0.03881&-0.02175\\\\ -0.24394&0.20862&-0.16917&-0.09444&0.90854&-0.08815&-0.08566&-0.08339&-0.07948&-0.07489\\\\ -0.30009&0.11392&-0.09408&-0.07630&-0.08481&0.90680&-0.10189&-0.11067&-0.11884&-0.12676\\\\ -0.35624&0.01922&-0.03040&-0.06103&-0.08112&-0.10126&0.87873&-0.14126&-0.16148&-0.18181\\\\ -0.41238&-0.07549&0.03020&-0.04653&-0.07822&-0.11012&-0.14150&0.82727&-0.20501&-0.23770\\\\ -0.46853&-0.17019&0.11365&-0.02628&-0.06941&-0.11298&-0.15543&-0.19759&0.75803&-0.28726\\\\ -0.52468&-0.26489&0.20640&-0.00369&-0.05819&-0.11339&-0.16681&-0.21975&-0.27626&0.66577\\\\\\end{bmatrix}\\begin{bmatrix}92.46507&0.0&0.0\\\\ 0.0&2.28269&0.0\\\\ 0.0&0.0&0.00000\\\\ 0.0&0.0&0.0\\\\ 0.0&0.0&0.0\\\\ 0.0&0.0&0.0\\\\ 0.0&0.0&0.0\\\\ 0.0&0.0&0.0\\\\ 0.0&0.0&0.0\\\\ 0.0&0.0&0.0\\\\\\end{bmatrix}\\begin{bmatrix}-0.54743&-0.57685&-0.60627\\\\ -0.73051&-0.02402&0.68247\\\\ -0.40825&0.81650&-0.40825\\\\\\end{bmatrix}$$"
      ],
      "text/plain": [
       "<IPython.core.display.Math object>"
      ]
     },
     "metadata": {},
     "output_type": "display_data"
    }
   ],
   "source": [
    "U,s,Vh=linalg.svd(A)\n",
    "show_decomposition(A,'=',U,linalg.diagsvd(s,*A.shape),Vh)"
   ]
  },
  {
   "cell_type": "code",
   "execution_count": 71,
   "metadata": {
    "collapsed": false
   },
   "outputs": [
    {
     "data": {
      "text/latex": [
       "\\begin{bmatrix}92.46507&0.0&0.0\\\\ 0.0&2.28269&0.0\\\\ 0.0&0.0&0.00000\\\\ 0.0&0.0&0.0\\\\ 0.0&0.0&0.0\\\\ 0.0&0.0&0.0\\\\ 0.0&0.0&0.0\\\\ 0.0&0.0&0.0\\\\ 0.0&0.0&0.0\\\\ 0.0&0.0&0.0\\\\\\end{bmatrix}"
      ],
      "text/plain": [
       "array([[  9.24650709e+01,   0.00000000e+00,   0.00000000e+00],\n",
       "       [  0.00000000e+00,   2.28268585e+00,   0.00000000e+00],\n",
       "       [  0.00000000e+00,   0.00000000e+00,   3.69636398e-15],\n",
       "       [  0.00000000e+00,   0.00000000e+00,   0.00000000e+00],\n",
       "       [  0.00000000e+00,   0.00000000e+00,   0.00000000e+00],\n",
       "       [  0.00000000e+00,   0.00000000e+00,   0.00000000e+00],\n",
       "       [  0.00000000e+00,   0.00000000e+00,   0.00000000e+00],\n",
       "       [  0.00000000e+00,   0.00000000e+00,   0.00000000e+00],\n",
       "       [  0.00000000e+00,   0.00000000e+00,   0.00000000e+00],\n",
       "       [  0.00000000e+00,   0.00000000e+00,   0.00000000e+00]])"
      ]
     },
     "execution_count": 71,
     "metadata": {},
     "output_type": "execute_result"
    }
   ],
   "source": [
    "S=linalg.diagsvd(s,*A.shape)\n",
    "S"
   ]
  },
  {
   "cell_type": "code",
   "execution_count": 72,
   "metadata": {
    "collapsed": false
   },
   "outputs": [
    {
     "data": {
      "text/latex": [
       "\\begin{bmatrix}-0.01935&0.58744&0.80777\\\\ -0.07550&0.49273&-0.31970\\\\ -0.13165&0.39803&-0.30497\\\\ -0.18779&0.30333&-0.23971\\\\ -0.24394&0.20862&-0.16917\\\\ -0.30009&0.11392&-0.09408\\\\ -0.35624&0.01922&-0.03040\\\\ -0.41238&-0.07549&0.03020\\\\ -0.46853&-0.17019&0.11365\\\\ -0.52468&-0.26489&0.20640\\\\\\end{bmatrix}"
      ],
      "text/plain": [
       "array([[-0.01935204,  0.58743514,  0.80777442],\n",
       "       [-0.07549922,  0.49273189, -0.31970217],\n",
       "       [-0.13164641,  0.39802864, -0.30496669],\n",
       "       [-0.1877936 ,  0.30332539, -0.23971429],\n",
       "       [-0.24394078,  0.20862214, -0.16916965],\n",
       "       [-0.30008797,  0.11391889, -0.09407502],\n",
       "       [-0.35623516,  0.01921564, -0.03040361],\n",
       "       [-0.41238234, -0.07548761,  0.03020231],\n",
       "       [-0.46852953, -0.17019086,  0.11365468],\n",
       "       [-0.52467672, -0.26489411,  0.20640001]])"
      ]
     },
     "execution_count": 72,
     "metadata": {},
     "output_type": "execute_result"
    }
   ],
   "source": [
    "U[:,:3]"
   ]
  },
  {
   "cell_type": "code",
   "execution_count": 73,
   "metadata": {
    "collapsed": false
   },
   "outputs": [
    {
     "data": {
      "text/latex": [
       "\\begin{bmatrix}92.46507&0.0&0.0\\\\ 0.0&2.28269&0.0\\\\ 0.0&0.0&0.00000\\\\\\end{bmatrix}"
      ],
      "text/plain": [
       "array([[  9.24650709e+01,   0.00000000e+00,   0.00000000e+00],\n",
       "       [  0.00000000e+00,   2.28268585e+00,   0.00000000e+00],\n",
       "       [  0.00000000e+00,   0.00000000e+00,   3.69636398e-15]])"
      ]
     },
     "execution_count": 73,
     "metadata": {},
     "output_type": "execute_result"
    }
   ],
   "source": [
    "S[:3]"
   ]
  },
  {
   "cell_type": "code",
   "execution_count": 74,
   "metadata": {
    "collapsed": false
   },
   "outputs": [
    {
     "data": {
      "text/latex": [
       "\\begin{bmatrix}0.00000&1.0&2.0\\\\ 3.0&4.0&5.0\\\\ 6.0&7.0&8.0\\\\ 9.0&10.0&11.0\\\\ 12.0&13.0&14.0\\\\ 15.0&16.0&17.0\\\\ 18.0&19.0&20.0\\\\ 21.0&22.0&23.0\\\\ 24.0&25.0&26.0\\\\ 27.0&28.0&29.0\\\\\\end{bmatrix}"
      ],
      "text/plain": [
       "array([[  1.13308346e-16,   1.00000000e+00,   2.00000000e+00],\n",
       "       [  3.00000000e+00,   4.00000000e+00,   5.00000000e+00],\n",
       "       [  6.00000000e+00,   7.00000000e+00,   8.00000000e+00],\n",
       "       [  9.00000000e+00,   1.00000000e+01,   1.10000000e+01],\n",
       "       [  1.20000000e+01,   1.30000000e+01,   1.40000000e+01],\n",
       "       [  1.50000000e+01,   1.60000000e+01,   1.70000000e+01],\n",
       "       [  1.80000000e+01,   1.90000000e+01,   2.00000000e+01],\n",
       "       [  2.10000000e+01,   2.20000000e+01,   2.30000000e+01],\n",
       "       [  2.40000000e+01,   2.50000000e+01,   2.60000000e+01],\n",
       "       [  2.70000000e+01,   2.80000000e+01,   2.90000000e+01]])"
      ]
     },
     "execution_count": 74,
     "metadata": {},
     "output_type": "execute_result"
    }
   ],
   "source": [
    "(U[:,:3].dot(S[:3])).dot(Vh)"
   ]
  },
  {
   "cell_type": "code",
   "execution_count": 75,
   "metadata": {
    "collapsed": false
   },
   "outputs": [
    {
     "data": {
      "text/latex": [
       "\\begin{bmatrix}-0.01935&0.58744\\\\ -0.07550&0.49273\\\\ -0.13165&0.39803\\\\ -0.18779&0.30333\\\\ -0.24394&0.20862\\\\ -0.30009&0.11392\\\\ -0.35624&0.01922\\\\ -0.41238&-0.07549\\\\ -0.46853&-0.17019\\\\ -0.52468&-0.26489\\\\\\end{bmatrix}"
      ],
      "text/plain": [
       "array([[-0.01935204,  0.58743514],\n",
       "       [-0.07549922,  0.49273189],\n",
       "       [-0.13164641,  0.39802864],\n",
       "       [-0.1877936 ,  0.30332539],\n",
       "       [-0.24394078,  0.20862214],\n",
       "       [-0.30008797,  0.11391889],\n",
       "       [-0.35623516,  0.01921564],\n",
       "       [-0.41238234, -0.07548761],\n",
       "       [-0.46852953, -0.17019086],\n",
       "       [-0.52467672, -0.26489411]])"
      ]
     },
     "execution_count": 75,
     "metadata": {},
     "output_type": "execute_result"
    }
   ],
   "source": [
    "U[:,:2]"
   ]
  },
  {
   "cell_type": "code",
   "execution_count": 76,
   "metadata": {
    "collapsed": false
   },
   "outputs": [
    {
     "data": {
      "text/latex": [
       "\\begin{bmatrix}92.46507&0.0\\\\ 0.0&2.28269\\\\\\end{bmatrix}"
      ],
      "text/plain": [
       "array([[ 92.46507095,   0.        ],\n",
       "       [  0.        ,   2.28268585]])"
      ]
     },
     "execution_count": 76,
     "metadata": {},
     "output_type": "execute_result"
    }
   ],
   "source": [
    "S[:2,:2]"
   ]
  },
  {
   "cell_type": "code",
   "execution_count": 77,
   "metadata": {
    "collapsed": false
   },
   "outputs": [
    {
     "data": {
      "text/latex": [
       "\\begin{bmatrix}-0.54743&-0.57685&-0.60627\\\\ -0.73051&-0.02402&0.68247\\\\\\end{bmatrix}"
      ],
      "text/plain": [
       "array([[-0.54743233, -0.5768504 , -0.60626847],\n",
       "       [-0.73051432, -0.02401975,  0.68247482]])"
      ]
     },
     "execution_count": 77,
     "metadata": {},
     "output_type": "execute_result"
    }
   ],
   "source": [
    "Vh[:2]"
   ]
  },
  {
   "cell_type": "code",
   "execution_count": 78,
   "metadata": {
    "collapsed": false
   },
   "outputs": [
    {
     "data": {
      "text/latex": [
       "\\begin{bmatrix}0.00000&1.0&2.0\\\\ 3.0&4.0&5.0\\\\ 6.0&7.0&8.0\\\\ 9.0&10.0&11.0\\\\ 12.0&13.0&14.0\\\\ 15.0&16.0&17.0\\\\ 18.0&19.0&20.0\\\\ 21.0&22.0&23.0\\\\ 24.0&25.0&26.0\\\\ 27.0&28.0&29.0\\\\\\end{bmatrix}"
      ],
      "text/plain": [
       "array([[  1.36366708e-15,   1.00000000e+00,   2.00000000e+00],\n",
       "       [  3.00000000e+00,   4.00000000e+00,   5.00000000e+00],\n",
       "       [  6.00000000e+00,   7.00000000e+00,   8.00000000e+00],\n",
       "       [  9.00000000e+00,   1.00000000e+01,   1.10000000e+01],\n",
       "       [  1.20000000e+01,   1.30000000e+01,   1.40000000e+01],\n",
       "       [  1.50000000e+01,   1.60000000e+01,   1.70000000e+01],\n",
       "       [  1.80000000e+01,   1.90000000e+01,   2.00000000e+01],\n",
       "       [  2.10000000e+01,   2.20000000e+01,   2.30000000e+01],\n",
       "       [  2.40000000e+01,   2.50000000e+01,   2.60000000e+01],\n",
       "       [  2.70000000e+01,   2.80000000e+01,   2.90000000e+01]])"
      ]
     },
     "execution_count": 78,
     "metadata": {},
     "output_type": "execute_result"
    }
   ],
   "source": [
    "np.dot(np.dot(U[:,:2],S[:2,:2]),Vh[:2])"
   ]
  },
  {
   "cell_type": "code",
   "execution_count": 79,
   "metadata": {
    "collapsed": false
   },
   "outputs": [
    {
     "data": {
      "text/latex": [
       "\\begin{bmatrix}-0.01935\\\\ -0.07550\\\\ -0.13165\\\\ -0.18779\\\\ -0.24394\\\\ -0.30009\\\\ -0.35624\\\\ -0.41238\\\\ -0.46853\\\\ -0.52468\\\\\\end{bmatrix}"
      ],
      "text/plain": [
       "array([[-0.01935204],\n",
       "       [-0.07549922],\n",
       "       [-0.13164641],\n",
       "       [-0.1877936 ],\n",
       "       [-0.24394078],\n",
       "       [-0.30008797],\n",
       "       [-0.35623516],\n",
       "       [-0.41238234],\n",
       "       [-0.46852953],\n",
       "       [-0.52467672]])"
      ]
     },
     "execution_count": 79,
     "metadata": {},
     "output_type": "execute_result"
    }
   ],
   "source": [
    "U[:,:1]"
   ]
  },
  {
   "cell_type": "code",
   "execution_count": 80,
   "metadata": {
    "collapsed": false
   },
   "outputs": [
    {
     "data": {
      "text/latex": [
       "\\begin{bmatrix}92.46507\\\\\\end{bmatrix}"
      ],
      "text/plain": [
       "array([[ 92.46507095]])"
      ]
     },
     "execution_count": 80,
     "metadata": {},
     "output_type": "execute_result"
    }
   ],
   "source": [
    "S[:1,:1]"
   ]
  },
  {
   "cell_type": "code",
   "execution_count": 81,
   "metadata": {
    "collapsed": false
   },
   "outputs": [
    {
     "data": {
      "text/latex": [
       "\\begin{bmatrix}-0.54743&-0.57685&-0.60627\\\\\\end{bmatrix}"
      ],
      "text/plain": [
       "array([[-0.54743233, -0.5768504 , -0.60626847]])"
      ]
     },
     "execution_count": 81,
     "metadata": {},
     "output_type": "execute_result"
    }
   ],
   "source": [
    "Vh[:1]"
   ]
  },
  {
   "cell_type": "code",
   "execution_count": 82,
   "metadata": {
    "collapsed": false
   },
   "outputs": [
    {
     "data": {
      "text/latex": [
       "\\begin{bmatrix}0.97957&1.03221&1.08485\\\\ 3.82165&4.02702&4.23239\\\\ 6.66373&7.02182&7.37992\\\\ 9.50581&10.01663&10.52746\\\\ 12.34788&13.01144&13.67499\\\\ 15.18996&16.00625&16.82253\\\\ 18.03204&19.00105&19.97006\\\\ 20.87412&21.99586&23.11760\\\\ 23.71620&24.99067&26.26514\\\\ 26.55828&27.98548&29.41267\\\\\\end{bmatrix}"
      ],
      "text/plain": [
       "array([[  0.97956848,   1.0322088 ,   1.08484912],\n",
       "       [  3.82164753,   4.02701627,   4.23238501],\n",
       "       [  6.66372657,   7.02182373,   7.37992089],\n",
       "       [  9.50580562,  10.01663119,  10.52745677],\n",
       "       [ 12.34788466,  13.01143866,  13.67499266],\n",
       "       [ 15.1899637 ,  16.00624612,  16.82252854],\n",
       "       [ 18.03204275,  19.00105358,  19.97006442],\n",
       "       [ 20.87412179,  21.99586105,  23.1176003 ],\n",
       "       [ 23.71620084,  24.99066851,  26.26513619],\n",
       "       [ 26.55827988,  27.98547598,  29.41267207]])"
      ]
     },
     "execution_count": 82,
     "metadata": {},
     "output_type": "execute_result"
    }
   ],
   "source": [
    "np.dot(np.dot(U[:,:1],S[:1,:1]),Vh[:1])"
   ]
  },
  {
   "cell_type": "code",
   "execution_count": 83,
   "metadata": {
    "collapsed": false
   },
   "outputs": [
    {
     "data": {
      "text/latex": [
       "$$\\begin{bmatrix}0&1&2\\\\ 3&4&5\\\\ 6&7&8\\\\ 9&10&11\\\\ 12&13&14\\\\ 15&16&17\\\\ 18&19&20\\\\ 21&22&23\\\\ 24&25&26\\\\ 27&28&29\\\\\\end{bmatrix}\\approx\\begin{bmatrix}0.97957&1.03221&1.08485\\\\ 3.82165&4.02702&4.23239\\\\ 6.66373&7.02182&7.37992\\\\ 9.50581&10.01663&10.52746\\\\ 12.34788&13.01144&13.67499\\\\ 15.18996&16.00625&16.82253\\\\ 18.03204&19.00105&19.97006\\\\ 20.87412&21.99586&23.11760\\\\ 23.71620&24.99067&26.26514\\\\ 26.55828&27.98548&29.41267\\\\\\end{bmatrix}=\\begin{bmatrix}-0.01935\\\\ -0.07550\\\\ -0.13165\\\\ -0.18779\\\\ -0.24394\\\\ -0.30009\\\\ -0.35624\\\\ -0.41238\\\\ -0.46853\\\\ -0.52468\\\\\\end{bmatrix}\\begin{bmatrix}92.46507\\\\\\end{bmatrix}\\begin{bmatrix}-0.54743&-0.57685&-0.60627\\\\\\end{bmatrix}$$"
      ],
      "text/plain": [
       "<IPython.core.display.Math object>"
      ]
     },
     "metadata": {},
     "output_type": "display_data"
    }
   ],
   "source": [
    "show_decomposition(A,r'\\approx',np.dot(np.dot(U[:,:1],S[:1,:1]),Vh[:1]),'=',U[:,:1],S[:1,:1],Vh[:1])"
   ]
  },
  {
   "cell_type": "markdown",
   "metadata": {},
   "source": [
    "How amazing compress!If you use a proper bigger matrix,you will get splendid percent!"
   ]
  },
  {
   "cell_type": "code",
   "execution_count": null,
   "metadata": {
    "collapsed": true
   },
   "outputs": [],
   "source": []
  }
 ],
 "metadata": {
  "kernelspec": {
   "display_name": "Python 2",
   "language": "python",
   "name": "python2"
  },
  "language_info": {
   "codemirror_mode": {
    "name": "ipython",
    "version": 2
   },
   "file_extension": ".py",
   "mimetype": "text/x-python",
   "name": "python",
   "nbconvert_exporter": "python",
   "pygments_lexer": "ipython2",
   "version": "2.7.11"
  }
 },
 "nbformat": 4,
 "nbformat_minor": 0
}
