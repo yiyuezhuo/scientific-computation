{
 "cells": [
  {
   "cell_type": "markdown",
   "metadata": {},
   "source": [
    "# 矩阵分解"
   ]
  },
  {
   "cell_type": "code",
   "execution_count": 1,
   "metadata": {
    "collapsed": true
   },
   "outputs": [],
   "source": [
    "import numpy as np\n",
    "import scipy\n",
    "from scipy import linalg\n",
    "import pandas as pd\n",
    "import matplotlib.pyplot as plt\n",
    "from IPython.display import display,Latex,Math\n",
    "%matplotlib inline\n",
    "\n",
    "from IPython.core.interactiveshell import InteractiveShell\n",
    "sh = InteractiveShell.instance()\n",
    "\n",
    "def number_to_str(n,cut=5):\n",
    "    ns=str(n)\n",
    "    format_='{0:.'+str(cut)+'f}'\n",
    "    if 'e' in ns or ('.' in ns and len(ns)>cut+1):\n",
    "        return format_.format(n)\n",
    "    else:\n",
    "        return str(n)\n",
    "\n",
    "def matrix_to_latex(mat,style='bmatrix'):\n",
    "    if type(mat)==np.matrixlib.defmatrix.matrix:\n",
    "        mat=mat.A\n",
    "    head=r'\\begin{'+style+'}'\n",
    "    tail=r'\\end{'+style+'}'\n",
    "    if len(mat.shape)==1:\n",
    "        body=r'\\\\'.join([str(el) for el in mat])\n",
    "        return head+body+tail\n",
    "    elif len(mat.shape)==2:\n",
    "        lines=[]\n",
    "        for row in mat:\n",
    "            lines.append('&'.join([number_to_str(el)  for el in row])+r'\\\\')\n",
    "        s=head+' '.join(lines)+tail\n",
    "        return s\n",
    "    return None\n",
    "\n",
    "sh.display_formatter.formatters['text/latex'].type_printers[np.ndarray]=matrix_to_latex\n",
    "\n",
    "def show_decomposition(*args):\n",
    "    latex=''\n",
    "    for arg in args:\n",
    "        if type(arg)==str:\n",
    "            latex+=arg\n",
    "        else:\n",
    "            latex+=matrix_to_latex(arg)\n",
    "    latex='$'+latex+'$'\n",
    "    display(Math(latex))\n"
   ]
  },
  {
   "cell_type": "markdown",
   "metadata": {},
   "source": [
    "## 三角分解\n",
    "\n",
    "三角分解就是把矩阵分解成上下三角的乘积形式，这样就可以利用回代法直接得到解。\n",
    "\n",
    "### 回代法\n",
    "\n",
    "考虑形式为\n",
    "\n",
    "$$\n",
    "\\begin{bmatrix}\n",
    " 1 & 2 & 3 \\\\\n",
    " 0 & 4 & 5 \\\\\n",
    " 0 & 0 & 6 \\\\\n",
    "\\end{bmatrix}\n",
    "\\begin{bmatrix}\n",
    "x_1 \\\\\n",
    "x_2 \\\\\n",
    "x_3 \\\\\n",
    "\\end{bmatrix}\n",
    "=\n",
    "\\begin{bmatrix}\n",
    "7 \\\\\n",
    "8 \\\\\n",
    "9 \\\\\n",
    "\\end{bmatrix}\\\\\n",
    "$$\n",
    "的方程，显然可以从右下网上机械的求解"
   ]
  },
  {
   "cell_type": "code",
   "execution_count": 2,
   "metadata": {
    "collapsed": true
   },
   "outputs": [],
   "source": [
    "def subsup(A,b):\n",
    "    size=A.shape[1]\n",
    "    x=np.zeros(size)\n",
    "    for i in range(size-1,-1,-1):\n",
    "        x[i]=(b[i]-sum([x[j]*A[i][j] for j in range(i+1,size)]))/A[i][i]   \n",
    "    return x\n",
    "\n"
   ]
  },
  {
   "cell_type": "code",
   "execution_count": 3,
   "metadata": {
    "collapsed": false
   },
   "outputs": [
    {
     "data": {
      "text/latex": [
       "\\begin{bmatrix}2.25\\\\0.125\\\\1.5\\end{bmatrix}"
      ],
      "text/plain": [
       "array([ 2.25 ,  0.125,  1.5  ])"
      ]
     },
     "execution_count": 3,
     "metadata": {},
     "output_type": "execute_result"
    }
   ],
   "source": [
    "A=np.array([1,2,3,0,4,5,0,0,6]).reshape(3,3)\n",
    "b=np.array([7,8,9])\n",
    "\n",
    "x=subsup(A,b)\n",
    "x"
   ]
  },
  {
   "cell_type": "code",
   "execution_count": 4,
   "metadata": {
    "collapsed": false
   },
   "outputs": [
    {
     "data": {
      "text/latex": [
       "$$\\begin{bmatrix}1&2&3\\\\ 0&4&5\\\\ 0&0&6\\\\\\end{bmatrix}\\begin{bmatrix}2.25\\\\0.125\\\\1.5\\end{bmatrix}=\\begin{bmatrix}7.0\\\\8.0\\\\9.0\\end{bmatrix}$$"
      ],
      "text/plain": [
       "<IPython.core.display.Math object>"
      ]
     },
     "metadata": {},
     "output_type": "display_data"
    }
   ],
   "source": [
    "show_decomposition(A,x,'=',A.dot(x))"
   ]
  },
  {
   "cell_type": "markdown",
   "metadata": {},
   "source": [
    "下三角的情况类似\n",
    "$$\n",
    "\\begin{bmatrix}\n",
    " 1 & 0 & 0 \\\\\n",
    " 2 & 3 & 0 \\\\\n",
    " 4 & 5 & 6 \\\\\n",
    "\\end{bmatrix}\n",
    "\\begin{bmatrix}\n",
    "x_1 \\\\\n",
    "x_2 \\\\\n",
    "x_3 \\\\\n",
    "\\end{bmatrix}\n",
    "=\n",
    "\\begin{bmatrix}\n",
    "7 \\\\\n",
    "8 \\\\\n",
    "9 \\\\\n",
    "\\end{bmatrix}\\\\\n",
    "$$\n"
   ]
  },
  {
   "cell_type": "code",
   "execution_count": 5,
   "metadata": {
    "collapsed": true
   },
   "outputs": [],
   "source": [
    "def subsdown(A,b):\n",
    "    size=A.shape[1]\n",
    "    x=np.zeros(size)\n",
    "    for i in range(size):\n",
    "        x[i]=(b[i]-sum([A[i][j]*x[j] for j in range(i)]))/A[i][i]\n",
    "    return x"
   ]
  },
  {
   "cell_type": "code",
   "execution_count": 6,
   "metadata": {
    "collapsed": false
   },
   "outputs": [
    {
     "data": {
      "text/latex": [
       "\\begin{bmatrix}7.0\\\\-2.0\\\\-1.5\\end{bmatrix}"
      ],
      "text/plain": [
       "array([ 7. , -2. , -1.5])"
      ]
     },
     "execution_count": 6,
     "metadata": {},
     "output_type": "execute_result"
    }
   ],
   "source": [
    "A=np.array([1,0,0,2,3,0,4,5,6]).reshape(3,3)\n",
    "b=np.array([7,8,9])\n",
    "x=subsdown(A,b)\n",
    "x"
   ]
  },
  {
   "cell_type": "code",
   "execution_count": 7,
   "metadata": {
    "collapsed": false
   },
   "outputs": [
    {
     "data": {
      "text/latex": [
       "$$\\begin{bmatrix}1&0&0\\\\ 2&3&0\\\\ 4&5&6\\\\\\end{bmatrix}\\begin{bmatrix}7.0\\\\-2.0\\\\-1.5\\end{bmatrix}=\\begin{bmatrix}7.0\\\\8.0\\\\9.0\\end{bmatrix}$$"
      ],
      "text/plain": [
       "<IPython.core.display.Math object>"
      ]
     },
     "metadata": {},
     "output_type": "display_data"
    }
   ],
   "source": [
    "show_decomposition(A,x,'=',A.dot(x))"
   ]
  },
  {
   "cell_type": "markdown",
   "metadata": {},
   "source": [
    "从而我们也就见识了上下三角矩阵的回代如何容易解决这种方成求解问题。那么显然，对于一般的\n",
    "\n",
    "$$\n",
    "Ax=b\n",
    "$$\n",
    "\n",
    "问题，我们如果能将$A$分解成下三角矩阵$L$与上三角矩阵$R$。则我们换元来利用回代法解决问题。\n",
    "\n",
    "$$\n",
    "LRx=b \\\\\n",
    "Rx=y \\\\\n",
    "Ly=b \\\\\n",
    "$$\n",
    "\n",
    "于是可以先利用下三角矩阵回代法求出$y$，再由$Rx=y$求出$x$。这种方法不知为何有种似曾相识的感觉...\n",
    "\n",
    "### LR分解\n",
    "\n",
    "LR分解还可以要求L的对角线上元全为1.\n",
    "\n",
    "$$\n",
    "\\begin{bmatrix}\n",
    "a_{11} & a_{12} & \\cdots & a_{1n} \\\\\n",
    "a_{21} & a_{22} & \\cdots & a_{2n} \\\\\n",
    "\\vdots & \\vdots & \\ddots & \\vdots \\\\\n",
    "a_{n1} & a_{n2} & \\cdots & a_{nn} \\\\\n",
    "\\end{bmatrix}\n",
    "=\n",
    "\\begin{bmatrix}\n",
    "1 & 0 & \\cdots & 0 \\\\\n",
    "l_{21} & 1 & \\cdots & 0 \\\\\n",
    "\\vdots & \\vdots & \\ddots & \\vdots \\\\\n",
    "l_{n1} & l_{n2} & \\cdots & 1 \\\\\n",
    "\\end{bmatrix}\n",
    "\\begin{bmatrix}\n",
    "r_{11} & r_{12} & \\cdots & r_{1n} \\\\\n",
    "0 & r_{22} & \\cdots & r_{2n} \\\\\n",
    "\\vdots & \\vdots & \\ddots & \\vdots \\\\\n",
    "0 & 0 & \\cdots & r_{nn} \\\\\n",
    "\\end{bmatrix}\n",
    "$$"
   ]
  },
  {
   "cell_type": "code",
   "execution_count": 29,
   "metadata": {
    "collapsed": true
   },
   "outputs": [],
   "source": [
    "def lr(A):\n",
    "    size=A.shape[0]\n",
    "    L=np.diag(np.ones(size))\n",
    "    R=np.zeros(A.shape)\n",
    "    for t in range(size):\n",
    "        R[0][t]=A[0][t]\n",
    "    for l in range(1,size):\n",
    "        for i in range(l):\n",
    "            L[l][i]=(A[l][i]-sum([L[l][jj]*R[jj][i] for jj in range(i) ]))/R[i][i]\n",
    "        for j in range(l,size):\n",
    "            R[l][j]=A[l][j]-sum([L[l][jj]*R[jj][j] for jj in range(l)])\n",
    "    return L,R\n",
    "\n",
    "\n",
    "            "
   ]
  },
  {
   "cell_type": "code",
   "execution_count": 33,
   "metadata": {
    "collapsed": false
   },
   "outputs": [
    {
     "data": {
      "text/latex": [
       "\\begin{bmatrix}2&3&0\\\\ 0&1&0\\\\ 4&6&0\\\\\\end{bmatrix}"
      ],
      "text/plain": [
       "array([[2, 3, 0],\n",
       "       [0, 1, 0],\n",
       "       [4, 6, 0]])"
      ]
     },
     "execution_count": 33,
     "metadata": {},
     "output_type": "execute_result"
    }
   ],
   "source": [
    "A=np.array([2,3,0,0,1,0,4,6,0]).reshape(3,3)\n",
    "\n",
    "A"
   ]
  },
  {
   "cell_type": "code",
   "execution_count": 34,
   "metadata": {
    "collapsed": false
   },
   "outputs": [
    {
     "data": {
      "text/latex": [
       "$$\\begin{bmatrix}2.0&3.0&0.0\\\\ 0.0&1.0&0.0\\\\ 4.0&6.0&0.0\\\\\\end{bmatrix}=\\begin{bmatrix}1.0&0.0&0.0\\\\ 0.0&1.0&0.0\\\\ 2.0&0.0&1.0\\\\\\end{bmatrix}\\begin{bmatrix}2.0&3.0&0.0\\\\ 0.0&1.0&0.0\\\\ 0.0&0.0&0.0\\\\\\end{bmatrix}$$"
      ],
      "text/plain": [
       "<IPython.core.display.Math object>"
      ]
     },
     "metadata": {},
     "output_type": "display_data"
    }
   ],
   "source": [
    "L,R=lr(A)\n",
    "\n",
    "show_decomposition(L.dot(R),'=',L,R)"
   ]
  },
  {
   "cell_type": "markdown",
   "metadata": {},
   "source": [
    "如此，根据上面的换元思想，就可以定义出一个基于lr分解的方程组的解法，当然在这里并没有显示出比高斯消元法任何的优势。"
   ]
  },
  {
   "cell_type": "code",
   "execution_count": 35,
   "metadata": {
    "collapsed": true
   },
   "outputs": [],
   "source": [
    "def solve(A,b):\n",
    "    L,R=lr(A)\n",
    "    y=subsdown(L,b)\n",
    "    x=subsup(R,y)\n",
    "    return x"
   ]
  },
  {
   "cell_type": "code",
   "execution_count": 52,
   "metadata": {
    "collapsed": false
   },
   "outputs": [
    {
     "data": {
      "text/latex": [
       "\\begin{bmatrix}1&4&9\\\\ 16&25&36\\\\ 49&64&81\\\\\\end{bmatrix}"
      ],
      "text/plain": [
       "array([[ 1,  4,  9],\n",
       "       [16, 25, 36],\n",
       "       [49, 64, 81]])"
      ]
     },
     "execution_count": 52,
     "metadata": {},
     "output_type": "execute_result"
    }
   ],
   "source": [
    "A=(np.arange(1,10)**2).reshape(3,3)\n",
    "A"
   ]
  },
  {
   "cell_type": "code",
   "execution_count": 53,
   "metadata": {
    "collapsed": false
   },
   "outputs": [
    {
     "data": {
      "text/latex": [
       "\\begin{bmatrix}1\\\\2\\\\3\\end{bmatrix}"
      ],
      "text/plain": [
       "array([1, 2, 3])"
      ]
     },
     "execution_count": 53,
     "metadata": {},
     "output_type": "execute_result"
    }
   ],
   "source": [
    "b=np.arange(1,4)\n",
    "b"
   ]
  },
  {
   "cell_type": "code",
   "execution_count": 38,
   "metadata": {
    "collapsed": false
   },
   "outputs": [
    {
     "data": {
      "text/latex": [
       "\\begin{bmatrix}0.0833333333333\\\\-0.333333333333\\\\0.25\\end{bmatrix}"
      ],
      "text/plain": [
       "array([ 0.08333333, -0.33333333,  0.25      ])"
      ]
     },
     "execution_count": 38,
     "metadata": {},
     "output_type": "execute_result"
    }
   ],
   "source": [
    "np.linalg.solve(A,b)"
   ]
  },
  {
   "cell_type": "code",
   "execution_count": 39,
   "metadata": {
    "collapsed": false
   },
   "outputs": [
    {
     "data": {
      "text/latex": [
       "\\begin{bmatrix}0.0833333333333\\\\-0.333333333333\\\\0.25\\end{bmatrix}"
      ],
      "text/plain": [
       "array([ 0.08333333, -0.33333333,  0.25      ])"
      ]
     },
     "execution_count": 39,
     "metadata": {},
     "output_type": "execute_result"
    }
   ],
   "source": [
    "solve(A,b)"
   ]
  },
  {
   "cell_type": "code",
   "execution_count": 50,
   "metadata": {
    "collapsed": false
   },
   "outputs": [
    {
     "data": {
      "text/latex": [
       "$$\\begin{bmatrix}1.0&4.0&9.0&16.0\\\\ 25.0&36.0&49.0&64.0\\\\ 81.0&100.0&121.0&144.0\\\\ 169.0&196.0&225.0&256.0\\\\\\end{bmatrix}=\\begin{bmatrix}1.0&0.0&0.0&0.0\\\\ 25.0&1.0&0.0&0.0\\\\ 81.0&3.5&1.0&0.0\\\\ 169.0&7.5&3.0&1.0\\\\\\end{bmatrix}\\begin{bmatrix}1.0&4.0&9.0&16.0\\\\ 0.0&-64.0&-176.0&-336.0\\\\ 0.0&0.0&8.0&24.0\\\\ 0.0&0.0&0.0&0.0\\\\\\end{bmatrix}$$"
      ],
      "text/plain": [
       "<IPython.core.display.Math object>"
      ]
     },
     "metadata": {},
     "output_type": "display_data"
    }
   ],
   "source": [
    "L,R=lr(A)\n",
    "\n",
    "show_decomposition(L.dot(R),'=',L,R)"
   ]
  },
  {
   "cell_type": "code",
   "execution_count": 54,
   "metadata": {
    "collapsed": false
   },
   "outputs": [
    {
     "data": {
      "text/latex": [
       "\\begin{bmatrix}0.0833333333333\\\\-0.333333333333\\\\0.25\\end{bmatrix}"
      ],
      "text/plain": [
       "array([ 0.08333333, -0.33333333,  0.25      ])"
      ]
     },
     "execution_count": 54,
     "metadata": {},
     "output_type": "execute_result"
    }
   ],
   "source": [
    "solve(A,b) # LR decomposition way"
   ]
  },
  {
   "cell_type": "code",
   "execution_count": null,
   "metadata": {
    "collapsed": true
   },
   "outputs": [],
   "source": []
  }
 ],
 "metadata": {
  "kernelspec": {
   "display_name": "Python 3",
   "language": "python",
   "name": "python3"
  },
  "language_info": {
   "codemirror_mode": {
    "name": "ipython",
    "version": 3
   },
   "file_extension": ".py",
   "mimetype": "text/x-python",
   "name": "python",
   "nbconvert_exporter": "python",
   "pygments_lexer": "ipython3",
   "version": "3.5.1"
  }
 },
 "nbformat": 4,
 "nbformat_minor": 0
}
