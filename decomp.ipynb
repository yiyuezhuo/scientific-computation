{
 "cells": [
  {
   "cell_type": "markdown",
   "metadata": {},
   "source": [
    "# 矩阵分解"
   ]
  },
  {
   "cell_type": "code",
   "execution_count": 1,
   "metadata": {
    "collapsed": true
   },
   "outputs": [],
   "source": [
    "import numpy as np\n",
    "import scipy\n",
    "from scipy import linalg\n",
    "import pandas as pd\n",
    "import matplotlib.pyplot as plt\n",
    "from IPython.display import display,Latex,Math\n",
    "%matplotlib inline\n",
    "\n",
    "from IPython.core.interactiveshell import InteractiveShell\n",
    "sh = InteractiveShell.instance()\n",
    "\n",
    "def number_to_str(n,cut=5):\n",
    "    ns=str(n)\n",
    "    format_='{0:.'+str(cut)+'f}'\n",
    "    if 'e' in ns or ('.' in ns and len(ns)>cut+1):\n",
    "        return format_.format(n)\n",
    "    else:\n",
    "        return str(n)\n",
    "\n",
    "def matrix_to_latex(mat,style='bmatrix'):\n",
    "    if type(mat)==np.matrixlib.defmatrix.matrix:\n",
    "        mat=mat.A\n",
    "    head=r'\\begin{'+style+'}'\n",
    "    tail=r'\\end{'+style+'}'\n",
    "    if len(mat.shape)==1:\n",
    "        body=r'\\\\'.join([str(el) for el in mat])\n",
    "        return head+body+tail\n",
    "    elif len(mat.shape)==2:\n",
    "        lines=[]\n",
    "        for row in mat:\n",
    "            lines.append('&'.join([number_to_str(el)  for el in row])+r'\\\\')\n",
    "        s=head+' '.join(lines)+tail\n",
    "        return s\n",
    "    return None\n",
    "\n",
    "sh.display_formatter.formatters['text/latex'].type_printers[np.ndarray]=matrix_to_latex\n",
    "\n",
    "def show_decomposition(*args):\n",
    "    latex=''\n",
    "    for arg in args:\n",
    "        if type(arg)==str:\n",
    "            latex+=arg\n",
    "        else:\n",
    "            latex+=matrix_to_latex(arg)\n",
    "    latex='$'+latex+'$'\n",
    "    display(Math(latex))\n"
   ]
  },
  {
   "cell_type": "markdown",
   "metadata": {},
   "source": [
    "## 三角分解\n",
    "\n",
    "三角分解就是把矩阵分解成上下三角的乘积形式，这样就可以利用回代法直接得到解。\n",
    "\n",
    "### 回代法\n",
    "\n",
    "考虑形式为\n",
    "\n",
    "$$\n",
    "\\begin{bmatrix}\n",
    " 1 & 2 & 3 \\\\\n",
    " 0 & 4 & 5 \\\\\n",
    " 0 & 0 & 6 \\\\\n",
    "\\end{bmatrix}\n",
    "\\begin{bmatrix}\n",
    "x_1 \\\\\n",
    "x_2 \\\\\n",
    "x_3 \\\\\n",
    "\\end{bmatrix}\n",
    "=\n",
    "\\begin{bmatrix}\n",
    "7 \\\\\n",
    "8 \\\\\n",
    "9 \\\\\n",
    "\\end{bmatrix}\\\\\n",
    "$$\n",
    "的方程，显然可以从右下网上机械的求解"
   ]
  },
  {
   "cell_type": "code",
   "execution_count": 2,
   "metadata": {
    "collapsed": true
   },
   "outputs": [],
   "source": [
    "def subsup(A,b):\n",
    "    size=A.shape[1]\n",
    "    x=np.zeros(size)\n",
    "    for i in range(size-1,-1,-1):\n",
    "        x[i]=(b[i]-sum([x[j]*A[i][j] for j in range(i+1,size)]))/A[i][i]   \n",
    "    return x\n",
    "\n"
   ]
  },
  {
   "cell_type": "code",
   "execution_count": 3,
   "metadata": {
    "collapsed": false
   },
   "outputs": [
    {
     "data": {
      "text/latex": [
       "\\begin{bmatrix}2.66666666667\\\\0.166666666667\\\\1.66666666667\\end{bmatrix}"
      ],
      "text/plain": [
       "array([ 2.66666667,  0.16666667,  1.66666667])"
      ]
     },
     "execution_count": 3,
     "metadata": {},
     "output_type": "execute_result"
    }
   ],
   "source": [
    "A=np.array([[1,2,3],[0,4,5],[0,0,6]])\n",
    "b=np.array([8,9,10])\n",
    "subsup(A,b)"
   ]
  },
  {
   "cell_type": "code",
   "execution_count": 4,
   "metadata": {
    "collapsed": false
   },
   "outputs": [
    {
     "data": {
      "text/latex": [
       "\\begin{bmatrix}2.66666666667\\\\0.166666666667\\\\1.66666666667\\end{bmatrix}"
      ],
      "text/plain": [
       "array([ 2.66666667,  0.16666667,  1.66666667])"
      ]
     },
     "execution_count": 4,
     "metadata": {},
     "output_type": "execute_result"
    }
   ],
   "source": [
    "np.linalg.solve(A,b)"
   ]
  },
  {
   "cell_type": "code",
   "execution_count": 5,
   "metadata": {
    "collapsed": false
   },
   "outputs": [
    {
     "data": {
      "text/latex": [
       "\\begin{bmatrix}2.25\\\\0.125\\\\1.5\\end{bmatrix}"
      ],
      "text/plain": [
       "array([ 2.25 ,  0.125,  1.5  ])"
      ]
     },
     "execution_count": 5,
     "metadata": {},
     "output_type": "execute_result"
    }
   ],
   "source": [
    "A=np.array([1,2,3,0,4,5,0,0,6]).reshape(3,3)\n",
    "b=np.array([7,8,9])\n",
    "\n",
    "x=subsup(A,b)\n",
    "x"
   ]
  },
  {
   "cell_type": "code",
   "execution_count": 6,
   "metadata": {
    "collapsed": false
   },
   "outputs": [
    {
     "data": {
      "text/latex": [
       "$$\\begin{bmatrix}1&2&3\\\\ 0&4&5\\\\ 0&0&6\\\\\\end{bmatrix}\\begin{bmatrix}2.25\\\\0.125\\\\1.5\\end{bmatrix}=\\begin{bmatrix}7.0\\\\8.0\\\\9.0\\end{bmatrix}$$"
      ],
      "text/plain": [
       "<IPython.core.display.Math object>"
      ]
     },
     "metadata": {},
     "output_type": "display_data"
    }
   ],
   "source": [
    "show_decomposition(A,x,'=',A.dot(x))"
   ]
  },
  {
   "cell_type": "markdown",
   "metadata": {},
   "source": [
    "下三角的情况类似\n",
    "$$\n",
    "\\begin{bmatrix}\n",
    " 1 & 0 & 0 \\\\\n",
    " 2 & 3 & 0 \\\\\n",
    " 4 & 5 & 6 \\\\\n",
    "\\end{bmatrix}\n",
    "\\begin{bmatrix}\n",
    "x_1 \\\\\n",
    "x_2 \\\\\n",
    "x_3 \\\\\n",
    "\\end{bmatrix}\n",
    "=\n",
    "\\begin{bmatrix}\n",
    "7 \\\\\n",
    "8 \\\\\n",
    "9 \\\\\n",
    "\\end{bmatrix}\\\\\n",
    "$$\n"
   ]
  },
  {
   "cell_type": "code",
   "execution_count": 7,
   "metadata": {
    "collapsed": true
   },
   "outputs": [],
   "source": [
    "def subsdown(A,b):\n",
    "    size=A.shape[1]\n",
    "    x=np.zeros(size)\n",
    "    for i in range(size):\n",
    "        x[i]=(b[i]-sum([A[i][j]*x[j] for j in range(i)]))/A[i][i]\n",
    "    return x"
   ]
  },
  {
   "cell_type": "code",
   "execution_count": 8,
   "metadata": {
    "collapsed": false
   },
   "outputs": [
    {
     "data": {
      "text/latex": [
       "\\begin{bmatrix}7.0\\\\-2.0\\\\-1.5\\end{bmatrix}"
      ],
      "text/plain": [
       "array([ 7. , -2. , -1.5])"
      ]
     },
     "execution_count": 8,
     "metadata": {},
     "output_type": "execute_result"
    }
   ],
   "source": [
    "A=np.array([1,0,0,2,3,0,4,5,6]).reshape(3,3)\n",
    "b=np.array([7,8,9])\n",
    "x=subsdown(A,b)\n",
    "x"
   ]
  },
  {
   "cell_type": "code",
   "execution_count": 9,
   "metadata": {
    "collapsed": false
   },
   "outputs": [
    {
     "data": {
      "text/latex": [
       "$$\\begin{bmatrix}1&0&0\\\\ 2&3&0\\\\ 4&5&6\\\\\\end{bmatrix}\\begin{bmatrix}7.0\\\\-2.0\\\\-1.5\\end{bmatrix}=\\begin{bmatrix}7.0\\\\8.0\\\\9.0\\end{bmatrix}$$"
      ],
      "text/plain": [
       "<IPython.core.display.Math object>"
      ]
     },
     "metadata": {},
     "output_type": "display_data"
    }
   ],
   "source": [
    "show_decomposition(A,x,'=',A.dot(x))"
   ]
  },
  {
   "cell_type": "markdown",
   "metadata": {},
   "source": [
    "从而我们也就见识了上下三角矩阵的回代如何容易解决这种方成求解问题。那么显然，对于一般的\n",
    "\n",
    "$$\n",
    "Ax=b\n",
    "$$\n",
    "\n",
    "问题，我们如果能将$A$分解成下三角矩阵$L$与上三角矩阵$R$。则我们换元来利用回代法解决问题。\n",
    "\n",
    "$$\n",
    "LRx=b \\\\\n",
    "Rx=y \\\\\n",
    "Ly=b \\\\\n",
    "$$\n",
    "\n",
    "于是可以先利用下三角矩阵回代法求出$y$，再由$Rx=y$求出$x$。这种方法不知为何有种似曾相识的感觉...\n",
    "\n",
    "### LR分解\n",
    "\n",
    "LR分解还可以要求L的对角线上元全为1.\n",
    "\n",
    "$$\n",
    "\\begin{bmatrix}\n",
    "a_{11} & a_{12} & \\cdots & a_{1n} \\\\\n",
    "a_{21} & a_{22} & \\cdots & a_{2n} \\\\\n",
    "\\vdots & \\vdots & \\ddots & \\vdots \\\\\n",
    "a_{n1} & a_{n2} & \\cdots & a_{nn} \\\\\n",
    "\\end{bmatrix}\n",
    "=\n",
    "\\begin{bmatrix}\n",
    "1 & 0 & \\cdots & 0 \\\\\n",
    "l_{21} & 1 & \\cdots & 0 \\\\\n",
    "\\vdots & \\vdots & \\ddots & \\vdots \\\\\n",
    "l_{n1} & l_{n2} & \\cdots & 1 \\\\\n",
    "\\end{bmatrix}\n",
    "\\begin{bmatrix}\n",
    "r_{11} & r_{12} & \\cdots & r_{1n} \\\\\n",
    "0 & r_{22} & \\cdots & r_{2n} \\\\\n",
    "\\vdots & \\vdots & \\ddots & \\vdots \\\\\n",
    "0 & 0 & \\cdots & r_{nn} \\\\\n",
    "\\end{bmatrix}\n",
    "$$"
   ]
  },
  {
   "cell_type": "code",
   "execution_count": 10,
   "metadata": {
    "collapsed": true
   },
   "outputs": [],
   "source": [
    "def lr(A):\n",
    "    size=A.shape[0]\n",
    "    L=np.diag(np.ones(size))\n",
    "    R=np.zeros(A.shape)\n",
    "    for t in range(size):\n",
    "        R[0][t]=A[0][t]\n",
    "    for l in range(1,size):\n",
    "        for i in range(l):\n",
    "            L[l][i]=(A[l][i]-sum([L[l][jj]*R[jj][i] for jj in range(i) ]))/R[i][i]\n",
    "        for j in range(l,size):\n",
    "            R[l][j]=A[l][j]-sum([L[l][jj]*R[jj][j] for jj in range(l)])\n",
    "    return L,R\n",
    "\n",
    "\n",
    "            "
   ]
  },
  {
   "cell_type": "code",
   "execution_count": 11,
   "metadata": {
    "collapsed": false
   },
   "outputs": [
    {
     "data": {
      "text/latex": [
       "\\begin{bmatrix}2&3&0\\\\ 0&1&0\\\\ 4&6&0\\\\\\end{bmatrix}"
      ],
      "text/plain": [
       "array([[2, 3, 0],\n",
       "       [0, 1, 0],\n",
       "       [4, 6, 0]])"
      ]
     },
     "execution_count": 11,
     "metadata": {},
     "output_type": "execute_result"
    }
   ],
   "source": [
    "A=np.array([2,3,0,0,1,0,4,6,0]).reshape(3,3)\n",
    "\n",
    "A"
   ]
  },
  {
   "cell_type": "code",
   "execution_count": 12,
   "metadata": {
    "collapsed": false
   },
   "outputs": [
    {
     "data": {
      "text/latex": [
       "$$\\begin{bmatrix}2.0&3.0&0.0\\\\ 0.0&1.0&0.0\\\\ 4.0&6.0&0.0\\\\\\end{bmatrix}=\\begin{bmatrix}1.0&0.0&0.0\\\\ 0.0&1.0&0.0\\\\ 2.0&0.0&1.0\\\\\\end{bmatrix}\\begin{bmatrix}2.0&3.0&0.0\\\\ 0.0&1.0&0.0\\\\ 0.0&0.0&0.0\\\\\\end{bmatrix}$$"
      ],
      "text/plain": [
       "<IPython.core.display.Math object>"
      ]
     },
     "metadata": {},
     "output_type": "display_data"
    }
   ],
   "source": [
    "L,R=lr(A)\n",
    "\n",
    "show_decomposition(L.dot(R),'=',L,R)"
   ]
  },
  {
   "cell_type": "markdown",
   "metadata": {},
   "source": [
    "如此，根据上面的换元思想，就可以定义出一个基于lr分解的方程组的解法，当然在这里并没有显示出比高斯消元法任何的优势。"
   ]
  },
  {
   "cell_type": "code",
   "execution_count": 13,
   "metadata": {
    "collapsed": true
   },
   "outputs": [],
   "source": [
    "def solve(A,b):\n",
    "    L,R=lr(A)\n",
    "    y=subsdown(L,b)\n",
    "    x=subsup(R,y)\n",
    "    return x"
   ]
  },
  {
   "cell_type": "code",
   "execution_count": 14,
   "metadata": {
    "collapsed": false
   },
   "outputs": [
    {
     "data": {
      "text/latex": [
       "\\begin{bmatrix}1&4&9\\\\ 16&25&36\\\\ 49&64&81\\\\\\end{bmatrix}"
      ],
      "text/plain": [
       "array([[ 1,  4,  9],\n",
       "       [16, 25, 36],\n",
       "       [49, 64, 81]])"
      ]
     },
     "execution_count": 14,
     "metadata": {},
     "output_type": "execute_result"
    }
   ],
   "source": [
    "A=(np.arange(1,10)**2).reshape(3,3)\n",
    "A"
   ]
  },
  {
   "cell_type": "code",
   "execution_count": 15,
   "metadata": {
    "collapsed": false
   },
   "outputs": [
    {
     "data": {
      "text/latex": [
       "\\begin{bmatrix}1\\\\2\\\\3\\end{bmatrix}"
      ],
      "text/plain": [
       "array([1, 2, 3])"
      ]
     },
     "execution_count": 15,
     "metadata": {},
     "output_type": "execute_result"
    }
   ],
   "source": [
    "b=np.arange(1,4)\n",
    "b"
   ]
  },
  {
   "cell_type": "code",
   "execution_count": 16,
   "metadata": {
    "collapsed": false
   },
   "outputs": [
    {
     "data": {
      "text/latex": [
       "\\begin{bmatrix}0.0833333333333\\\\-0.333333333333\\\\0.25\\end{bmatrix}"
      ],
      "text/plain": [
       "array([ 0.08333333, -0.33333333,  0.25      ])"
      ]
     },
     "execution_count": 16,
     "metadata": {},
     "output_type": "execute_result"
    }
   ],
   "source": [
    "np.linalg.solve(A,b)"
   ]
  },
  {
   "cell_type": "code",
   "execution_count": 17,
   "metadata": {
    "collapsed": false
   },
   "outputs": [
    {
     "data": {
      "text/latex": [
       "\\begin{bmatrix}0.0833333333333\\\\-0.333333333333\\\\0.25\\end{bmatrix}"
      ],
      "text/plain": [
       "array([ 0.08333333, -0.33333333,  0.25      ])"
      ]
     },
     "execution_count": 17,
     "metadata": {},
     "output_type": "execute_result"
    }
   ],
   "source": [
    "solve(A,b)"
   ]
  },
  {
   "cell_type": "code",
   "execution_count": 18,
   "metadata": {
    "collapsed": false
   },
   "outputs": [
    {
     "data": {
      "text/latex": [
       "$$\\begin{bmatrix}1.0&4.0&9.0\\\\ 16.0&25.0&36.0\\\\ 49.0&64.0&81.0\\\\\\end{bmatrix}=\\begin{bmatrix}1.0&0.0&0.0\\\\ 16.0&1.0&0.0\\\\ 49.0&3.38462&1.0\\\\\\end{bmatrix}\\begin{bmatrix}1.0&4.0&9.0\\\\ 0.0&-39.0&-108.0\\\\ 0.0&0.0&5.53846\\\\\\end{bmatrix}$$"
      ],
      "text/plain": [
       "<IPython.core.display.Math object>"
      ]
     },
     "metadata": {},
     "output_type": "display_data"
    }
   ],
   "source": [
    "L,R=lr(A)\n",
    "\n",
    "show_decomposition(L.dot(R),'=',L,R)"
   ]
  },
  {
   "cell_type": "code",
   "execution_count": 19,
   "metadata": {
    "collapsed": false,
    "scrolled": true
   },
   "outputs": [
    {
     "data": {
      "text/latex": [
       "\\begin{bmatrix}0.0833333333333\\\\-0.333333333333\\\\0.25\\end{bmatrix}"
      ],
      "text/plain": [
       "array([ 0.08333333, -0.33333333,  0.25      ])"
      ]
     },
     "execution_count": 19,
     "metadata": {},
     "output_type": "execute_result"
    }
   ],
   "source": [
    "solve(A,b) # LR decomposition way"
   ]
  },
  {
   "cell_type": "markdown",
   "metadata": {},
   "source": [
    "### $LDR^*$分解\n",
    "\n",
    "两个三角矩阵左边的对角线上被规范为1，一个没规范，不对称不能忍，所以导出$LDR^*$分解，通过从$R$中抽出一个对角矩阵来把对角线也归1化使其对称。"
   ]
  },
  {
   "cell_type": "code",
   "execution_count": 20,
   "metadata": {
    "collapsed": false
   },
   "outputs": [
    {
     "data": {
      "text/latex": [
       "\\begin{bmatrix}2&3&0\\\\ 0&1&0\\\\ 4&6&0\\\\\\end{bmatrix}"
      ],
      "text/plain": [
       "array([[2, 3, 0],\n",
       "       [0, 1, 0],\n",
       "       [4, 6, 0]])"
      ]
     },
     "execution_count": 20,
     "metadata": {},
     "output_type": "execute_result"
    }
   ],
   "source": [
    "def ldrstar(A):\n",
    "    size=A.shape[0]\n",
    "    L,R=lr(A)\n",
    "    #Rstar=np.zeros([size,size])\n",
    "    Rstar=np.identity(size)\n",
    "    D=np.diag(R.diagonal())\n",
    "    for i in range(size-1):\n",
    "        for j in range(i+1,size):\n",
    "            Rstar[i][j]=R[i][j]/D[i][i]\n",
    "    return L,D,Rstar\n",
    "\n",
    "A=np.array([2,3,0,0,1,0,4,6,0]).reshape(3,3)\n",
    "A\n",
    "    "
   ]
  },
  {
   "cell_type": "code",
   "execution_count": 21,
   "metadata": {
    "collapsed": false
   },
   "outputs": [
    {
     "data": {
      "text/latex": [
       "$$\\begin{bmatrix}2.0&3.0&0.0\\\\ 0.0&1.0&0.0\\\\ 4.0&6.0&0.0\\\\\\end{bmatrix}=\\begin{bmatrix}1.0&0.0&0.0\\\\ 0.0&1.0&0.0\\\\ 2.0&0.0&1.0\\\\\\end{bmatrix}\\begin{bmatrix}2.0&0.0&0.0\\\\ 0.0&1.0&0.0\\\\ 0.0&0.0&0.0\\\\\\end{bmatrix}\\begin{bmatrix}1.0&1.5&0.0\\\\ 0.0&1.0&0.0\\\\ 0.0&0.0&1.0\\\\\\end{bmatrix}$$"
      ],
      "text/plain": [
       "<IPython.core.display.Math object>"
      ]
     },
     "metadata": {},
     "output_type": "display_data"
    }
   ],
   "source": [
    "L,D,Rstar=ldrstar(A)\n",
    "show_decomposition(L.dot(D).dot(Rstar),'=',L,D,Rstar)"
   ]
  },
  {
   "cell_type": "markdown",
   "metadata": {},
   "source": [
    "### $L^*R^*$ 分解\n",
    "\n",
    "$L^*R^*$分解就是把$L$的全1对角线性质移到了$R$上。显然，既然有了$LDR^*$式，只要令$LD=L^*$即可"
   ]
  },
  {
   "cell_type": "code",
   "execution_count": 22,
   "metadata": {
    "collapsed": false
   },
   "outputs": [
    {
     "data": {
      "text/latex": [
       "$$\\begin{bmatrix}2.0&3.0&0.0\\\\ 0.0&1.0&0.0\\\\ 4.0&6.0&0.0\\\\\\end{bmatrix}=\\begin{bmatrix}2.0&0.0&0.0\\\\ 0.0&1.0&0.0\\\\ 4.0&0.0&0.0\\\\\\end{bmatrix}\\begin{bmatrix}1.0&1.5&0.0\\\\ 0.0&1.0&0.0\\\\ 0.0&0.0&1.0\\\\\\end{bmatrix}$$"
      ],
      "text/plain": [
       "<IPython.core.display.Math object>"
      ]
     },
     "metadata": {},
     "output_type": "display_data"
    }
   ],
   "source": [
    "def lstarrstar(A):\n",
    "    L,D,Rstar=ldrstar(A)\n",
    "    Lstar=np.zeros(L.shape)\n",
    "    for i in range(L.shape[0]):\n",
    "        for j in range(L.shape[1]):\n",
    "            Lstar[i][j]=L[i][j]*D[j][j]\n",
    "    return Lstar,Rstar\n",
    "\n",
    "Lstar,Rstar=lstarrstar(A)\n",
    "show_decomposition(Lstar.dot(Rstar),'=',Lstar,Rstar)"
   ]
  },
  {
   "cell_type": "markdown",
   "metadata": {},
   "source": [
    "### 存在唯一性\n",
    "\n",
    "theroem I\n",
    "\n",
    "A的LR分解存在且唯一，当且仅当其直到n-1顺序主子式不等于0."
   ]
  },
  {
   "cell_type": "markdown",
   "metadata": {},
   "source": [
    "## Cholesky 分解\n",
    "\n",
    "对于对称正定矩阵，具有更强的三角分解形式。其可以被分解为一对互为转置上/下三角矩阵的乘积。\n",
    "\n",
    "$$\n",
    "A=TT^{'}\n",
    "$$"
   ]
  },
  {
   "cell_type": "code",
   "execution_count": 23,
   "metadata": {
    "collapsed": true
   },
   "outputs": [],
   "source": [
    "def cholesky(A):\n",
    "    size=A.shape[0]\n",
    "    T=np.zeros(A.shape)\n",
    "    for i in range(size):\n",
    "        T[i][i]=np.sqrt(A[i][i]-sum([T[i][t]**2 for t in range(i)]))\n",
    "        for j in range(i+1,size):\n",
    "            T[j][i]=(A[i][j]-sum([T[i][t]*T[j][t] for t in range(i)]))/T[i][i]\n",
    "    return T"
   ]
  },
  {
   "cell_type": "code",
   "execution_count": 24,
   "metadata": {
    "collapsed": false
   },
   "outputs": [
    {
     "data": {
      "text/latex": [
       "\\begin{bmatrix}4&6&10\\\\ 6&58&29\\\\ 10&29&38\\\\\\end{bmatrix}"
      ],
      "text/plain": [
       "array([[ 4,  6, 10],\n",
       "       [ 6, 58, 29],\n",
       "       [10, 29, 38]])"
      ]
     },
     "execution_count": 24,
     "metadata": {},
     "output_type": "execute_result"
    }
   ],
   "source": [
    "A=np.array([4,6,10,6,58,29,10,29,38]).reshape(3,3)\n",
    "A"
   ]
  },
  {
   "cell_type": "code",
   "execution_count": 25,
   "metadata": {
    "collapsed": false
   },
   "outputs": [
    {
     "data": {
      "text/latex": [
       "\\begin{bmatrix}2.0&0.0&0.0\\\\ 3.0&7.0&0.0\\\\ 5.0&2.0&3.0\\\\\\end{bmatrix}"
      ],
      "text/plain": [
       "array([[ 2.,  0.,  0.],\n",
       "       [ 3.,  7.,  0.],\n",
       "       [ 5.,  2.,  3.]])"
      ]
     },
     "execution_count": 25,
     "metadata": {},
     "output_type": "execute_result"
    }
   ],
   "source": [
    "T=cholesky(A)\n",
    "T"
   ]
  },
  {
   "cell_type": "code",
   "execution_count": 26,
   "metadata": {
    "collapsed": false
   },
   "outputs": [
    {
     "data": {
      "text/latex": [
       "\\begin{bmatrix}4.0&6.0&10.0\\\\ 6.0&58.0&29.0\\\\ 10.0&29.0&38.0\\\\\\end{bmatrix}"
      ],
      "text/plain": [
       "array([[  4.,   6.,  10.],\n",
       "       [  6.,  58.,  29.],\n",
       "       [ 10.,  29.,  38.]])"
      ]
     },
     "execution_count": 26,
     "metadata": {},
     "output_type": "execute_result"
    }
   ],
   "source": [
    "T.dot(np.transpose(T))"
   ]
  },
  {
   "cell_type": "markdown",
   "metadata": {
    "collapsed": true
   },
   "source": [
    "### QR分解\n",
    "\n",
    "三角分解将矩阵分解为一些三角矩阵和数量阵的乘积。QR分解则将其分解为一个正交阵与三角阵的乘积。\n",
    "\n",
    "$$\n",
    "A=QR\n",
    "$$\n",
    "其中Q是正交矩阵,R是上三角矩阵。\n",
    "\n",
    "#### Householder 变换\n",
    "\n",
    "这个变换由一个超平面确定，将点映射到与相对超平面另一边对称的点上。从计算的角度来看，超平面可以由与它正交的一个向量$u$所确定。\n",
    "这个变换的矩阵可以写成\n",
    "$$\n",
    "H=1-uu^T\n",
    "$$\n",
    "其中u是列向量，或者说$n \\times 1$矩阵。\n",
    "\n",
    "#### 基于Householder变换的QR分解\n",
    "\n",
    "设想有一系列正交变换，其每次将原矩阵一个列像高斯消元法一样变成某个元以下全为0.则全部变换完之后，所有作用过的正交矩阵复合成一个正交矩阵，剩下的矩阵正是一个（正交）消元法剩下的上三角矩阵，这就做成了QR分解。\n",
    "\n",
    "那么问题是，行初等变换的矩阵一般不是正交矩阵，我们必须构造出一种消元的正交矩阵方法，既然它保持长度，一个显然的想法就是它同时包含直接消元又包含将剩下的元恢复为原长度两步。\n",
    "\n",
    "换个思路，假如我们限定为考虑第一步，将第一列变为一个除第一个元为列长度外其他元皆为0的向量，这可以通过找到一个Householder变换\n",
    "对应的超平面（即原向量与变换后的轴向量“中间”那个平面），也可以转化为找到这个平面的那个正交向量。通过几何直观我们发现，原向量$x$与目标向量$\\lVert x \\rVert e_1$所需要的正交向量就是它们的差$x-\\lVert x \\rVert e_1$.我们令这个向量为$u$,同时将其标准化，以便利用其定义出Householder变换矩阵，\n",
    "\n",
    "$$\n",
    "\\begin{align}\n",
    "& u=x-\\lVert x \\rVert e_1 \\\\\n",
    "& v=\\frac{u}{\\lVert u \\rVert} \\\\\n",
    "& Q=I-2vv^T\n",
    "\\end{align}\n",
    "$$\n",
    "\n",
    "定义出的变换矩阵$Q$具有性质\n",
    "\n",
    "$$\n",
    "Qx=\n",
    "\\begin{bmatrix}\n",
    "\\lVert x \\rVert \\\\\n",
    "0 \\\\\n",
    "\\vdots \\\\\n",
    "0 \\\\\n",
    "\\end{bmatrix}\n",
    "$$\n",
    "这正是我们想要的"
   ]
  },
  {
   "cell_type": "code",
   "execution_count": 27,
   "metadata": {
    "collapsed": false
   },
   "outputs": [
    {
     "data": {
      "text/latex": [
       "\\begin{bmatrix}12&-51&4\\\\ 6&167&-68\\\\ -4&24&-41\\\\\\end{bmatrix}"
      ],
      "text/plain": [
       "array([[ 12, -51,   4],\n",
       "       [  6, 167, -68],\n",
       "       [ -4,  24, -41]])"
      ]
     },
     "execution_count": 27,
     "metadata": {},
     "output_type": "execute_result"
    }
   ],
   "source": [
    "A=np.array([12,-51,4,6,167,-68,-4,24,-41]).reshape(3,3)\n",
    "A"
   ]
  },
  {
   "cell_type": "code",
   "execution_count": 28,
   "metadata": {
    "collapsed": false
   },
   "outputs": [
    {
     "data": {
      "text/latex": [
       "\\begin{bmatrix}12\\\\6\\\\-4\\end{bmatrix}"
      ],
      "text/plain": [
       "array([12,  6, -4])"
      ]
     },
     "execution_count": 28,
     "metadata": {},
     "output_type": "execute_result"
    }
   ],
   "source": [
    "x=A[:,0]\n",
    "x"
   ]
  },
  {
   "cell_type": "code",
   "execution_count": 29,
   "metadata": {
    "collapsed": false
   },
   "outputs": [
    {
     "data": {
      "text/plain": [
       "14.0"
      ]
     },
     "execution_count": 29,
     "metadata": {},
     "output_type": "execute_result"
    }
   ],
   "source": [
    "alpha=np.sqrt(x.dot(x))\n",
    "alpha"
   ]
  },
  {
   "cell_type": "code",
   "execution_count": 30,
   "metadata": {
    "collapsed": false
   },
   "outputs": [
    {
     "data": {
      "text/latex": [
       "\\begin{bmatrix}-2.0\\\\6.0\\\\-4.0\\end{bmatrix}"
      ],
      "text/plain": [
       "array([-2.,  6., -4.])"
      ]
     },
     "execution_count": 30,
     "metadata": {},
     "output_type": "execute_result"
    }
   ],
   "source": [
    "e1=np.zeros(x.shape[0])\n",
    "e1[0]=1\n",
    "u=x-alpha*e1\n",
    "u"
   ]
  },
  {
   "cell_type": "code",
   "execution_count": 31,
   "metadata": {
    "collapsed": false
   },
   "outputs": [
    {
     "data": {
      "text/latex": [
       "\\begin{bmatrix}-0.267261241912\\\\0.801783725737\\\\-0.534522483825\\end{bmatrix}"
      ],
      "text/plain": [
       "array([-0.26726124,  0.80178373, -0.53452248])"
      ]
     },
     "execution_count": 31,
     "metadata": {},
     "output_type": "execute_result"
    }
   ],
   "source": [
    "v=u/np.sqrt(u.dot(u))\n",
    "v"
   ]
  },
  {
   "cell_type": "code",
   "execution_count": 32,
   "metadata": {
    "collapsed": false
   },
   "outputs": [
    {
     "data": {
      "text/latex": [
       "\\begin{bmatrix}0.85714&0.42857&-0.28571\\\\ 0.42857&-0.28571&0.85714\\\\ -0.28571&0.85714&0.42857\\\\\\end{bmatrix}"
      ],
      "text/plain": [
       "array([[ 0.85714286,  0.42857143, -0.28571429],\n",
       "       [ 0.42857143, -0.28571429,  0.85714286],\n",
       "       [-0.28571429,  0.85714286,  0.42857143]])"
      ]
     },
     "execution_count": 32,
     "metadata": {},
     "output_type": "execute_result"
    }
   ],
   "source": [
    "Q=np.identity(v.shape[0])-2*np.outer(v,v)\n",
    "Q"
   ]
  },
  {
   "cell_type": "code",
   "execution_count": 33,
   "metadata": {
    "collapsed": false
   },
   "outputs": [
    {
     "data": {
      "text/latex": [
       "\\begin{bmatrix}14.0\\\\-4.4408920985e-16\\\\4.4408920985e-16\\end{bmatrix}"
      ],
      "text/plain": [
       "array([  1.40000000e+01,  -4.44089210e-16,   4.44089210e-16])"
      ]
     },
     "execution_count": 33,
     "metadata": {},
     "output_type": "execute_result"
    }
   ],
   "source": [
    "Q.dot(x)"
   ]
  },
  {
   "cell_type": "code",
   "execution_count": 34,
   "metadata": {
    "collapsed": false,
    "scrolled": true
   },
   "outputs": [
    {
     "data": {
      "text/latex": [
       "\\begin{bmatrix}0.85714&0.42857&-0.28571\\\\ 0.42857&-0.28571&0.85714\\\\ -0.28571&0.85714&0.42857\\\\\\end{bmatrix}"
      ],
      "text/plain": [
       "array([[ 0.85714286,  0.42857143, -0.28571429],\n",
       "       [ 0.42857143, -0.28571429,  0.85714286],\n",
       "       [-0.28571429,  0.85714286,  0.42857143]])"
      ]
     },
     "execution_count": 34,
     "metadata": {},
     "output_type": "execute_result"
    }
   ],
   "source": [
    "def get_Q1(x):\n",
    "    size=x.shape[0]\n",
    "    norm_x=np.sqrt(np.dot(x,x))\n",
    "    e1=np.zeros(size)\n",
    "    e1[0]=1\n",
    "    u=x-norm_x*e1\n",
    "    norm_u=np.sqrt(np.dot(u,u))\n",
    "    v=u/norm_u\n",
    "    Q=np.identity(size)-2*np.outer(v,np.transpose(v))\n",
    "    return Q\n",
    "\n",
    "get_Q1(np.array([12,6,-4]))"
   ]
  },
  {
   "cell_type": "code",
   "execution_count": 39,
   "metadata": {
    "collapsed": true
   },
   "outputs": [],
   "source": [
    "from functools import reduce\n",
    "\n",
    "def qr(A):\n",
    "    size=A.shape[1]\n",
    "    QList=[]\n",
    "    for i in range(size):\n",
    "        x=A[i:,i]\n",
    "        Q=get_Q1(x)\n",
    "        Qn=np.identity(A.shape[0])\n",
    "        #print(Qn.shape,Q.shape)\n",
    "        Qn[i:,i:]=Q\n",
    "        A=np.dot(Qn,A)\n",
    "        QList.append(Qn)\n",
    "    Q=reduce(lambda x,y:x.dot(y),QList)\n",
    "    R=A\n",
    "    return Q,R\n",
    "    "
   ]
  },
  {
   "cell_type": "code",
   "execution_count": 57,
   "metadata": {
    "collapsed": false
   },
   "outputs": [
    {
     "data": {
      "text/latex": [
       "\\begin{bmatrix}12&-51&4\\\\ 6&167&-68\\\\ -4&24&-41\\\\\\end{bmatrix}"
      ],
      "text/plain": [
       "array([[ 12, -51,   4],\n",
       "       [  6, 167, -68],\n",
       "       [ -4,  24, -41]])"
      ]
     },
     "execution_count": 57,
     "metadata": {},
     "output_type": "execute_result"
    }
   ],
   "source": [
    "A=np.array([12,-51,4,6,167,-68,-4,24,-41]).reshape(3,3)\n",
    "\n",
    "A"
   ]
  },
  {
   "cell_type": "code",
   "execution_count": 58,
   "metadata": {
    "collapsed": false,
    "scrolled": true
   },
   "outputs": [
    {
     "data": {
      "text/latex": [
       "$$\\begin{bmatrix}12.0&-51.0&4.0\\\\ 6.0&167.0&-68.0\\\\ -4.0&24.0&-41.0\\\\\\end{bmatrix}=\\begin{bmatrix}0.85714&-0.39429&-0.33143\\\\ 0.42857&0.90286&0.03429\\\\ -0.28571&0.17143&-0.94286\\\\\\end{bmatrix}\\begin{bmatrix}14.0&21.0&-14.0\\\\ 0.00000&175.0&-70.0\\\\ 0.00000&0.00000&35.0\\\\\\end{bmatrix}$$"
      ],
      "text/plain": [
       "<IPython.core.display.Math object>"
      ]
     },
     "metadata": {},
     "output_type": "display_data"
    }
   ],
   "source": [
    "Q,R=qr(A)\n",
    "\n",
    "show_decomposition(Q.dot(R),'=',Q,R)"
   ]
  },
  {
   "cell_type": "code",
   "execution_count": 42,
   "metadata": {
    "collapsed": false
   },
   "outputs": [
    {
     "data": {
      "text/latex": [
       "$$\\begin{bmatrix}1.0&2.0&3.0\\\\ 4.0&5.0&6.0\\\\ 7.0&8.0&9.0\\\\ 10.0&11.0&12.0\\\\ 13.0&14.0&15.0\\\\\\end{bmatrix}=\\begin{bmatrix}0.05464&0.77267&-0.28286&-0.03023&0.56487\\\\ 0.21854&0.50223&-0.20691&0.03071&-0.81009\\\\ 0.38245&0.23180&0.80286&-0.39332&0.02692\\\\ 0.54636&-0.03863&0.14643&0.81540&0.11696\\\\ 0.71027&-0.30907&-0.45953&-0.42257&0.10135\\\\\\end{bmatrix}\\begin{bmatrix}18.30301&20.21526&22.12751\\\\ 0.00000&1.15900&2.31800\\\\ -0.00000&-0.00000&0.00000\\\\ -0.00000&-0.00000&-0.00000\\\\ 0.00000&-0.00000&-0.00000\\\\\\end{bmatrix}$$"
      ],
      "text/plain": [
       "<IPython.core.display.Math object>"
      ]
     },
     "metadata": {},
     "output_type": "display_data"
    }
   ],
   "source": [
    "A=np.arange(1,16).reshape(5,3)\n",
    "\n",
    "Q,R=qr(A)\n",
    "\n",
    "show_decomposition(Q.dot(R),'=',Q,R)"
   ]
  },
  {
   "cell_type": "code",
   "execution_count": 43,
   "metadata": {
    "collapsed": false
   },
   "outputs": [
    {
     "data": {
      "text/latex": [
       "$$\\begin{bmatrix}1.0&2.0&3.0\\\\ 4.0&5.0&6.0\\\\ 7.0&8.0&9.0\\\\ 10.0&11.0&12.0\\\\ 13.0&14.0&15.0\\\\\\end{bmatrix}=\\begin{bmatrix}0.05464&0.77267&-0.28286\\\\ 0.21854&0.50223&-0.20691\\\\ 0.38245&0.23180&0.80286\\\\ 0.54636&-0.03863&0.14643\\\\ 0.71027&-0.30907&-0.45953\\\\\\end{bmatrix}\\begin{bmatrix}18.30301&20.21526&22.12751\\\\ 0.00000&1.15900&2.31800\\\\ -0.00000&-0.00000&0.00000\\\\\\end{bmatrix}$$"
      ],
      "text/plain": [
       "<IPython.core.display.Math object>"
      ]
     },
     "metadata": {},
     "output_type": "display_data"
    }
   ],
   "source": [
    "#thin mode\n",
    "show_decomposition(Q.dot(R),'=',Q[:,:-2],R[:-2,:])"
   ]
  },
  {
   "cell_type": "markdown",
   "metadata": {},
   "source": [
    "## QR分解与最小二乘法\n",
    "\n",
    "最小二乘问题是\n",
    "\n",
    "$$\n",
    "\\min_x \\lVert b-Ax \\rVert_2\n",
    "$$\n",
    "\n",
    "设A具有QR分解式\n",
    "$$\n",
    "A=QR=Q_1R_1\n",
    "$$\n",
    "其中$Q_1$$R_1$是$Q$,$R$的短版本（即去掉了全0那块及相关地方的剩下来的矩阵）\n",
    "\n",
    "$$\n",
    "\\lVert b-Ax \\rVert_2=\\left \\lVert  \\begin{bmatrix} Q_1^Tb \\\\ Q_2^Tb \\end{bmatrix} - \\begin{bmatrix} Rx \\\\ 0 \\\\ \\end{bmatrix} \\right \\rVert_2^2 \n",
    "=\n",
    "\\lVert Q_1^Tb -Rx \\rVert_2^2 + \\lVert Q_2^Tb \\rVert_2^2\n",
    "$$\n",
    "\n",
    "可以注意到莫名其妙的将误差分解成了可以降成0和完全不能变的两部分，所以只要单纯令左边等于0就能得到最小二乘解（代数里这一套其实经常出现）。\n",
    "得到了\n",
    "\n",
    "$$\n",
    "x=R^{-1}Q_1^Tb \\\\\n",
    "$$\n",
    "\n",
    "其中R因为是上三角矩阵，Q_1是正交矩阵，都很容易求逆（这里直接写成了取转置。正交矩阵转置为逆这一性质是在推导中追求它的主要原因）"
   ]
  },
  {
   "cell_type": "code",
   "execution_count": 44,
   "metadata": {
    "collapsed": false
   },
   "outputs": [],
   "source": [
    "def R_I(A):\n",
    "    #上三角矩阵R -> R^I\n",
    "    A=A.copy()\n",
    "    size=A.shape[0]\n",
    "    I=np.identity(size)\n",
    "    for i in range(size-1,-1,-1):\n",
    "        I[i,:]=I[i,:]/A[i][i]\n",
    "        A[i,:]=A[i,:]/A[i][i]\n",
    "        for j in range(i):\n",
    "            c=-A[j][i]\n",
    "            A[j,:]=A[j,:]+c*A[i,:]\n",
    "            I[j,:]=I[j,:]+c*I[i,:]\n",
    "    return I\n",
    "    \n",
    "def qr_solve(A,b):\n",
    "    Q,R=qr(A)\n",
    "    attrs=A.shape[1]\n",
    "    Q1=Q[:,:attrs]\n",
    "    R1=R[:attrs,:]\n",
    "    RI=R_I(R1)\n",
    "    return RI.dot(np.transpose(Q1)).dot(b)\n"
   ]
  },
  {
   "cell_type": "code",
   "execution_count": 45,
   "metadata": {
    "collapsed": false
   },
   "outputs": [
    {
     "data": {
      "text/latex": [
       "\\begin{bmatrix}1.0&2.0&3.0\\\\ 0.0&4.0&5.0\\\\ 0.0&0.0&6.0\\\\\\end{bmatrix}"
      ],
      "text/plain": [
       "array([[ 1.,  2.,  3.],\n",
       "       [ 0.,  4.,  5.],\n",
       "       [ 0.,  0.,  6.]])"
      ]
     },
     "execution_count": 45,
     "metadata": {},
     "output_type": "execute_result"
    }
   ],
   "source": [
    "R=np.array([1.0,2.0,3.0,0.0,4.0,5.0,0.0,0.0,6.0]).reshape(3,3)\n",
    "R"
   ]
  },
  {
   "cell_type": "code",
   "execution_count": 46,
   "metadata": {
    "collapsed": false
   },
   "outputs": [
    {
     "data": {
      "text/latex": [
       "\\begin{bmatrix}1.0&0.0&-0.00000\\\\ 0.0&1.0&0.00000\\\\ 0.0&0.0&1.0\\\\\\end{bmatrix}"
      ],
      "text/plain": [
       "array([[  1.00000000e+00,   0.00000000e+00,  -2.22044605e-16],\n",
       "       [  0.00000000e+00,   1.00000000e+00,   1.11022302e-16],\n",
       "       [  0.00000000e+00,   0.00000000e+00,   1.00000000e+00]])"
      ]
     },
     "execution_count": 46,
     "metadata": {},
     "output_type": "execute_result"
    }
   ],
   "source": [
    "RI=R_I(R)\n",
    "\n",
    "RI.dot(R)"
   ]
  },
  {
   "cell_type": "code",
   "execution_count": 47,
   "metadata": {
    "collapsed": false
   },
   "outputs": [
    {
     "data": {
      "text/latex": [
       "\\begin{bmatrix}-10.718894527\\\\30.523914852\\\\-18.7136137526\\end{bmatrix}"
      ],
      "text/plain": [
       "array([-10.71889453,  30.52391485, -18.71361375])"
      ]
     },
     "execution_count": 47,
     "metadata": {},
     "output_type": "execute_result"
    }
   ],
   "source": [
    "A=np.sqrt(np.linspace(1,100,30).reshape(10,3))\n",
    "b=np.linspace(1,10,10)\n",
    "\n",
    "qr_solve(A,b)"
   ]
  },
  {
   "cell_type": "code",
   "execution_count": 48,
   "metadata": {
    "collapsed": false
   },
   "outputs": [
    {
     "data": {
      "text/plain": [
       "(array([-10.71889453,  30.52391485, -18.71361375]),\n",
       " array([ 1.45354127]),\n",
       " 3,\n",
       " array([ 38.8997761 ,   1.34317996,   0.05733151]))"
      ]
     },
     "execution_count": 48,
     "metadata": {},
     "output_type": "execute_result"
    }
   ],
   "source": [
    "np.linalg.lstsq(A,b)"
   ]
  },
  {
   "cell_type": "markdown",
   "metadata": {},
   "source": [
    "很好，取得了和`np.linalg.lstsq`一样的结果"
   ]
  },
  {
   "cell_type": "code",
   "execution_count": 52,
   "metadata": {
    "collapsed": false
   },
   "outputs": [
    {
     "data": {
      "text/latex": [
       "\\begin{bmatrix}0.01940&0.56467&0.82509\\\\ 0.31034&0.78108&-0.54185\\\\ 0.95043&-0.26657&0.16009\\\\\\end{bmatrix}"
      ],
      "text/plain": [
       "array([[ 0.01939646,  0.56467104,  0.82508811],\n",
       "       [ 0.31034339,  0.7810805 , -0.54184891],\n",
       "       [ 0.95042662, -0.26657059,  0.16009172]])"
      ]
     },
     "execution_count": 52,
     "metadata": {},
     "output_type": "execute_result"
    }
   ],
   "source": [
    "A=np.array([[1,2,3],[4,5,6],[7,8,9]])**2\n",
    "Q,R=qr(A)\n",
    "Q"
   ]
  },
  {
   "cell_type": "code",
   "execution_count": 53,
   "metadata": {
    "collapsed": false
   },
   "outputs": [
    {
     "data": {
      "text/latex": [
       "\\begin{bmatrix}51.55580&68.66347&88.33149\\\\ 0.00000&4.72518&11.60872\\\\ 0.00000&0.00000&0.88666\\\\\\end{bmatrix}"
      ],
      "text/plain": [
       "array([[  5.15557950e+01,   6.86634742e+01,   8.83314863e+01],\n",
       "       [  5.74235325e-16,   4.72517870e+00,   1.16087193e+01],\n",
       "       [  7.69785590e-15,   1.05141559e-15,   8.86661855e-01]])"
      ]
     },
     "execution_count": 53,
     "metadata": {},
     "output_type": "execute_result"
    }
   ],
   "source": [
    "R"
   ]
  },
  {
   "cell_type": "code",
   "execution_count": 55,
   "metadata": {
    "collapsed": false
   },
   "outputs": [
    {
     "data": {
      "text/latex": [
       "\\begin{bmatrix}0.26726&0.53452&0.80178\\\\ 0.53452&0.61007&-0.58489\\\\ 0.80178&-0.58489&0.12267\\\\\\end{bmatrix}"
      ],
      "text/plain": [
       "array([[ 0.26726124,  0.53452248,  0.80178373],\n",
       "       [ 0.53452248,  0.61007346, -0.5848898 ],\n",
       "       [ 0.80178373, -0.5848898 ,  0.12266529]])"
      ]
     },
     "execution_count": 55,
     "metadata": {},
     "output_type": "execute_result"
    }
   ],
   "source": [
    "get_Q1(np.array([1,2,3]))"
   ]
  },
  {
   "cell_type": "code",
   "execution_count": 61,
   "metadata": {
    "collapsed": true
   },
   "outputs": [],
   "source": [
    "import scipy.stats as stat\n"
   ]
  },
  {
   "cell_type": "code",
   "execution_count": 62,
   "metadata": {
    "collapsed": true
   },
   "outputs": [],
   "source": [
    "A=stat.norm(0,1).rvs(size=300).reshape(100,3)"
   ]
  },
  {
   "cell_type": "code",
   "execution_count": 64,
   "metadata": {
    "collapsed": false
   },
   "outputs": [],
   "source": [
    "coef=np.array([1,2,3])\n"
   ]
  },
  {
   "cell_type": "code",
   "execution_count": 68,
   "metadata": {
    "collapsed": true
   },
   "outputs": [],
   "source": [
    "e=stat.norm(0,1).rvs(size=100)"
   ]
  },
  {
   "cell_type": "code",
   "execution_count": 69,
   "metadata": {
    "collapsed": false
   },
   "outputs": [],
   "source": [
    "ey=A.dot(coef)\n",
    "y=ey+e"
   ]
  },
  {
   "cell_type": "code",
   "execution_count": 70,
   "metadata": {
    "collapsed": false
   },
   "outputs": [
    {
     "data": {
      "text/latex": [
       "\\begin{bmatrix}0.889706634001\\\\2.0466123848\\\\2.82263609813\\end{bmatrix}"
      ],
      "text/plain": [
       "array([ 0.88970663,  2.04661238,  2.8226361 ])"
      ]
     },
     "execution_count": 70,
     "metadata": {},
     "output_type": "execute_result"
    }
   ],
   "source": [
    "qr_solve(A,y)"
   ]
  },
  {
   "cell_type": "code",
   "execution_count": 71,
   "metadata": {
    "collapsed": false
   },
   "outputs": [
    {
     "data": {
      "text/plain": [
       "(array([ 0.88970663,  2.04661238,  2.8226361 ]),\n",
       " array([ 91.31112813]),\n",
       " 3,\n",
       " array([ 11.70797844,  10.0783936 ,   9.59738953]))"
      ]
     },
     "execution_count": 71,
     "metadata": {},
     "output_type": "execute_result"
    }
   ],
   "source": [
    "np.linalg.lstsq(A,y)"
   ]
  },
  {
   "cell_type": "code",
   "execution_count": 72,
   "metadata": {
    "collapsed": false
   },
   "outputs": [
    {
     "data": {
      "text/latex": [
       "\\begin{bmatrix}1.0\\\\2.0\\\\3.0\\end{bmatrix}"
      ],
      "text/plain": [
       "array([ 1.,  2.,  3.])"
      ]
     },
     "execution_count": 72,
     "metadata": {},
     "output_type": "execute_result"
    }
   ],
   "source": [
    "qr_solve(A,ey)"
   ]
  },
  {
   "cell_type": "code",
   "execution_count": null,
   "metadata": {
    "collapsed": true
   },
   "outputs": [],
   "source": []
  }
 ],
 "metadata": {
  "kernelspec": {
   "display_name": "Python 3",
   "language": "python",
   "name": "python3"
  },
  "language_info": {
   "codemirror_mode": {
    "name": "ipython",
    "version": 3
   },
   "file_extension": ".py",
   "mimetype": "text/x-python",
   "name": "python",
   "nbconvert_exporter": "python",
   "pygments_lexer": "ipython3",
   "version": "3.5.1"
  }
 },
 "nbformat": 4,
 "nbformat_minor": 0
}
